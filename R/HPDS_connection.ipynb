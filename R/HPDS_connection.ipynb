{
 "cells": [
  {
   "cell_type": "markdown",
   "metadata": {},
   "source": [
    "# Connecting to BioData Catalyst HPDS resources: manualing setting up a security token"
   ]
  },
  {
   "cell_type": "markdown",
   "metadata": {},
   "source": [
    "**This Notebook needs to be executed using a python kernel**"
   ]
  },
  {
   "cell_type": "markdown",
   "metadata": {},
   "source": [
    "To connect to a PIC-SURE network, the PIC-SURE API needs two data: \n",
    "- The URL of this network: those notebooks examples are currently using COPDGene-dev network environment, which URL is https://biodatacatalyst.integration.hms.harvard.edu/\n",
    "- An individual user token, mandatory to gain access to the controlled-access data through the API."
   ]
  },
  {
   "cell_type": "markdown",
   "metadata": {},
   "source": [
    "We will hence need to get a token and provide it to the API. First, we create a blank text file called `tokens.txt` that will be used to store the token."
   ]
  },
  {
   "cell_type": "code",
   "execution_count": 1,
   "metadata": {},
   "outputs": [
    {
     "name": "stdout",
     "output_type": "stream",
     "text": [
      "token.txt created"
     ]
    }
   ],
   "source": [
    "token_file = \"token.txt\"\n",
    "if (! file.exists(token_file)) {\n",
    "    file.create(token_file)\n",
    "    cat(token_file, \"created\")\n",
    "}"
   ]
  },
  {
   "cell_type": "markdown",
   "metadata": {},
   "source": [
    "To actually get the token, process as below:"
   ]
  },
  {
   "cell_type": "markdown",
   "metadata": {},
   "source": [
    "1. In a web browser, open the BioData Catalyst login page: https://biodatacatalyst.integration.hms.harvard.edu/, and choose one of the available authentication methods to enter it.\n",
    "2. In the user-interface click on USER PROFILE\n",
    "3. On the new window, click again on USER PROFILE\n",
    "4. On the pop-up window, click on REFRESH and then COPY\n",
    "5. Back into your Jupyter environment, paste it into the newly created text file (`./tokens.txt`)."
   ]
  },
  {
   "cell_type": "markdown",
   "metadata": {},
   "source": [
    "**The user token is strictly personal, be careful not to share it with anyone**"
   ]
  },
  {
   "cell_type": "markdown",
   "metadata": {},
   "source": [
    "<!-- see second answer on https://stackoverflow.com/questions/15557392/how-do-i-display-images-from-google-drive-on-a-website -->\n",
    "<img src=\"https://drive.google.com/uc?id=1IsAnZqhRXs6j9N74BwhJNaICdNgdkjEm\">\n"
   ]
  }
 ],
 "metadata": {
  "kernelspec": {
   "display_name": "R",
   "language": "R",
   "name": "ir"
  },
  "language_info": {
   "codemirror_mode": "r",
   "file_extension": ".r",
   "mimetype": "text/x-r-source",
   "name": "R",
   "pygments_lexer": "r",
   "version": "3.6.1"
  }
 },
 "nbformat": 4,
 "nbformat_minor": 4
}
