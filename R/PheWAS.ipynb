{
 "cells": [
  {
   "cell_type": "markdown",
   "metadata": {},
   "source": [
    "# Phenome-Wide analysis on COPDgene data: R PIC-SURE API use-case"
   ]
  },
  {
   "cell_type": "markdown",
   "metadata": {},
   "source": [
    "This notebook is an illustration example of how to use the R **PIC-SURE API** to select and query data from an HPDS-hosted database. It takes as use-case a simple PheWAS analysis. This notebook is intentionally straightforward, and explanation provided are only aimed at guiding through the PheWAS analysis pipeline. For a more step-by-step introduction to the R PIC-SURE API, see the `R_PICSURE-API_101_PheWAS_example.ipynb` Notebook."
   ]
  },
  {
   "cell_type": "markdown",
   "metadata": {},
   "source": [
    "**Before running this notebook, please be sure to get an user-specific security token. For more information on how to proceed, see the `HPDS_connection.ipynb` notebook**"
   ]
  },
  {
   "cell_type": "markdown",
   "metadata": {},
   "source": [
    "## Environment set-up"
   ]
  },
  {
   "cell_type": "markdown",
   "metadata": {},
   "source": [
    "### System requirements\n",
    "- R 3.5 or later"
   ]
  },
  {
   "cell_type": "markdown",
   "metadata": {},
   "source": [
    "### Packages installation"
   ]
  },
  {
   "cell_type": "code",
   "execution_count": null,
   "metadata": {},
   "outputs": [],
   "source": [
    "list_packages <- c(\"ggrepel\",\n",
    "                   \"jsonlite\", \n",
    "                   \"ggplot2\",\n",
    "                   \"plyr\",\n",
    "                   \"dplyr\",\n",
    "                   \"tidyr\",\n",
    "                   \"purrr\",\n",
    "                   \"devtools\")\n",
    "\n",
    "for (package in list_packages){\n",
    "     if(! package %in% installed.packages()){\n",
    "         install.packages(package, dependencies = TRUE)\n",
    "     }\n",
    "     library(package, character.only = TRUE)\n",
    "}"
   ]
  },
  {
   "cell_type": "markdown",
   "metadata": {},
   "source": [
    "#### Installing latest R PIC-SURE API libraries from github"
   ]
  },
  {
   "cell_type": "code",
   "execution_count": null,
   "metadata": {},
   "outputs": [],
   "source": [
    "devtools::install_github(\"hms-dbmi/pic-sure-r-client\", force=T)\n",
    "devtools::install_github(\"hms-dbmi/pic-sure-r-adapter-hpds\", force=T)"
   ]
  },
  {
   "cell_type": "markdown",
   "metadata": {},
   "source": [
    "#### Loading user-defined functions"
   ]
  },
  {
   "cell_type": "code",
   "execution_count": null,
   "metadata": {},
   "outputs": [],
   "source": [
    "source(\"R_lib/utils.R\")"
   ]
  },
  {
   "cell_type": "markdown",
   "metadata": {},
   "source": [
    "## Connecting to a PIC-SURE network"
   ]
  },
  {
   "cell_type": "code",
   "execution_count": null,
   "metadata": {},
   "outputs": [],
   "source": [
    "PICSURE_network_URL <- \"https://biodatacatalyst.integration.hms.harvard.edu/picsure\"\n",
    "resource_id <- \"02e23f52-f354-4e8b-992c-d37c8b9ba140\"\n",
    "token_file <- \"token.txt\""
   ]
  },
  {
   "cell_type": "code",
   "execution_count": null,
   "metadata": {},
   "outputs": [],
   "source": [
    "token <- TokenManager(token_file)"
   ]
  },
  {
   "cell_type": "code",
   "execution_count": null,
   "metadata": {},
   "outputs": [],
   "source": [
    "myconnection <- picsure::connect(url = PICSURE_network_URL,\n",
    "                                 token = token)"
   ]
  },
  {
   "cell_type": "code",
   "execution_count": null,
   "metadata": {},
   "outputs": [],
   "source": [
    "resource <- hpds::get.resource(myconnection,\n",
    "                               resourceUUID = resource_id)"
   ]
  },
  {
   "cell_type": "markdown",
   "metadata": {},
   "source": [
    "## PheWAS analysis"
   ]
  },
  {
   "cell_type": "markdown",
   "metadata": {},
   "source": [
    "In a nutshell, this PheWAS analysis follows those subsequent steps:\n",
    "- Retrieving the variables dictionary, using the PIC-SURE API dedicated methods\n",
    "- From the info provided by the dictionary, retrieving the data in an exploitable format through PIC-SURE API calls\n",
    "- Data management\n",
    "- Running univariate tests again every phenotypes variable\n",
    "- Adjusting for multiple testing issue\n",
    "- Plotting the results\n",
    "\n",
    "\n",
    "This analysis is conducted using COPDGene Study data. The study overall goal is to detect underlying genetic factors to develop Chronic Obstructive Pulmonary Disease (COPD), and enrolled more than 10,000 individuals ([more information on COPDGene Study](http://www.copdgene.org))."
   ]
  },
  {
   "cell_type": "markdown",
   "metadata": {},
   "source": [
    "### 1. Retrieving variable dictionary from HPDS Database"
   ]
  },
  {
   "cell_type": "code",
   "execution_count": null,
   "metadata": {},
   "outputs": [],
   "source": [
    "copdgene_variables <- hpds::find.in.dictionary(resource, \"Genetic Epidemiology of COPD (COPDGene)\")\n",
    "consent_variable <- hpds::find.in.dictionary(resource, \"Study Accession with Consent Code\")"
   ]
  },
  {
   "cell_type": "code",
   "execution_count": null,
   "metadata": {},
   "outputs": [],
   "source": [
    "copdgene_dic <- hpds::extract.dataframe(copdgene_variables)\n",
    "consent_dic <- hpds::extract.dataframe(consent_variable)\n",
    "variablesDict <- dplyr::bind_rows(copdgene_dic, consent_dic) %>% dplyr::arrange(name)"
   ]
  },
  {
   "cell_type": "code",
   "execution_count": null,
   "metadata": {},
   "outputs": [],
   "source": [
    "# Display the variables tree hierarchy from the variables name\n",
    "multiIndex <- get_multiIndex(variablesDict)\n",
    "head(multiIndex)"
   ]
  },
  {
   "cell_type": "markdown",
   "metadata": {},
   "source": [
    "### 2. Selecting variables and retrieving data from HPDS"
   ]
  },
  {
   "cell_type": "markdown",
   "metadata": {},
   "source": [
    "Subseting to keep only the phenotypical variables + the \"affection status\", that will be used as the dependent variable for this illustration use-case."
   ]
  },
  {
   "cell_type": "code",
   "execution_count": null,
   "metadata": {},
   "outputs": [],
   "source": [
    "mask_copdgene <- multiIndex[\"level_1\"] == 'Genetic Epidemiology of COPD (COPDGene)'\n",
    "mask_pheno <- multiIndex[\"level_2\"] == 'Subject Phenotype'\n",
    "mask_status <- multiIndex[\"level_3\"] == 'Affection status'\n",
    "mask_to_drop <- multiIndex[[\"simplified_name\"]] %in% list(\"Dbgap_id\", \"De-identified site code\", \"A1AD: phenotype/genotype\")\n",
    "mask_vars <- mask_copdgene & (mask_pheno | mask_status) & !mask_to_drop\n",
    "selected_vars <- variablesDict[mask_vars, \"name\"] %>% as.list()"
   ]
  },
  {
   "cell_type": "code",
   "execution_count": null,
   "metadata": {},
   "outputs": [],
   "source": [
    "print(selected_vars[1:5])"
   ]
  },
  {
   "cell_type": "markdown",
   "metadata": {},
   "source": [
    "Here we use the accession number of COPDGene study to select only the records that do match this strings."
   ]
  },
  {
   "cell_type": "code",
   "execution_count": null,
   "metadata": {},
   "outputs": [],
   "source": [
    "phs_values = strsplit(consent_dic[[\"categoryValues\"]], \",\") %>% unlist()\n",
    "phs_copdgene = grep(\"phs000179\\\\.*\", phs_values, perl=T, value=T) %>% as.list()\n",
    "# phs_copdgene = do.call(list, list(phs_copdgene))"
   ]
  },
  {
   "cell_type": "markdown",
   "metadata": {},
   "source": [
    "Retrieving the data:"
   ]
  },
  {
   "cell_type": "code",
   "execution_count": null,
   "metadata": {},
   "outputs": [],
   "source": [
    "my_query = hpds::new.query(resource = resource)"
   ]
  },
  {
   "cell_type": "code",
   "execution_count": null,
   "metadata": {},
   "outputs": [],
   "source": [
    "hpds::query.filter.add(query = my_query, \n",
    "                      keys = consent_dic[[\"name\"]], \n",
    "                      phs_copdgene)"
   ]
  },
  {
   "cell_type": "code",
   "execution_count": null,
   "metadata": {},
   "outputs": [],
   "source": [
    "hpds::query.select.add(query = my_query, \n",
    "                      keys = selected_vars)\n",
    "facts = hpds::query.run(query = my_query, result.type = \"dataframe\")"
   ]
  },
  {
   "cell_type": "code",
   "execution_count": null,
   "metadata": {},
   "outputs": [],
   "source": [
    "cat(paste0(dim(facts)[1], \" rows, \", dim(facts)[2], \" columns\"))"
   ]
  },
  {
   "cell_type": "code",
   "execution_count": null,
   "metadata": {},
   "outputs": [],
   "source": [
    "tail(facts)"
   ]
  },
  {
   "cell_type": "markdown",
   "metadata": {},
   "source": [
    "### 3. Data-management"
   ]
  },
  {
   "cell_type": "markdown",
   "metadata": {},
   "source": [
    "Since variable names are not the same between the dictionary and the dataframe columns, a temporary workaround is needed: parsing variables names from variables dictionary to match actual column names. (issue arise from the fact the R data.frame column names cannot contain spaces)."
   ]
  },
  {
   "cell_type": "code",
   "execution_count": null,
   "metadata": {},
   "outputs": [],
   "source": [
    "variablesDict[[\"df_name\"]] <- parsing_varNames(variablesDict[[\"name\"]])\n",
    "multiIndex[[\"df_name\"]] <- variablesDict[[\"df_name\"]]"
   ]
  },
  {
   "cell_type": "code",
   "execution_count": null,
   "metadata": {},
   "outputs": [],
   "source": [
    "checking_parsing(names(facts)[-1], variablesDict[mask_vars, \"df_name\"])"
   ]
  },
  {
   "cell_type": "markdown",
   "metadata": {},
   "source": [
    "#### Selecting variables regarding their types"
   ]
  },
  {
   "cell_type": "markdown",
   "metadata": {},
   "source": [
    "One important step in a PheWAS is to get the distinction between categorical and numerical variables. This distinction is straightforward using the variables dictionary."
   ]
  },
  {
   "cell_type": "code",
   "execution_count": null,
   "metadata": {},
   "outputs": [],
   "source": [
    "mask_categories <- variablesDict[, \"categorical\"] == TRUE\n",
    "categorical_varnames <- variablesDict[mask_categories & mask_vars, \"df_name\"]\n",
    "continuous_varnames <- variablesDict[!mask_categories & mask_vars, \"df_name\"]"
   ]
  },
  {
   "cell_type": "markdown",
   "metadata": {},
   "source": [
    "### Selecting the dependent variable to study\n",
    "Most of PheWAS use a genetic variant as the variable used to separate the population between cases and controls. However the population doesn't have to be dichotomized using a genetic variant, and any phenotypic variable could be used to run a PheWAS analysis (see for example [*Neuraz et al.*, 2013](https://journals.plos.org/ploscompbiol/article?id=10.1371/journal.pcbi.1003405)). \n",
    "\n",
    "Here we will use the **COPD status** as the case-control variable to dichotomize the population in our analysis (ie the dependent variable for which univariate association test will be run against)."
   ]
  },
  {
   "cell_type": "code",
   "execution_count": null,
   "metadata": {},
   "outputs": [],
   "source": [
    "dependent_varname <- multiIndex[multiIndex[[\"simplified_name\"]] == \"Affection status\",][[\"df_name\"]]\n",
    "categorical_varnames <- categorical_varnames[-which(categorical_varnames == dependent_varname)]"
   ]
  },
  {
   "cell_type": "code",
   "execution_count": null,
   "metadata": {},
   "outputs": [],
   "source": [
    "table(facts[[dependent_varname]])"
   ]
  },
  {
   "cell_type": "markdown",
   "metadata": {},
   "source": [
    "Then we subset our population regarding the relevant values for the COPD diagnosis variable (i.e. keeping \"Case\" and \"Control\" individuals, and discarding \"Other\", \"Control, Exclusionary Disease\", and null values)."
   ]
  },
  {
   "cell_type": "code",
   "execution_count": null,
   "metadata": {},
   "outputs": [],
   "source": [
    "mask_dependent_varname = facts[[dependent_varname]] %in% c(\"Case\", \"Control\")"
   ]
  },
  {
   "cell_type": "code",
   "execution_count": null,
   "metadata": {},
   "outputs": [],
   "source": [
    "facts <- facts[mask_dependent_varname,]"
   ]
  },
  {
   "cell_type": "code",
   "execution_count": null,
   "metadata": {},
   "outputs": [],
   "source": [
    "count_case_control <- table(facts[[dependent_varname]])"
   ]
  },
  {
   "cell_type": "code",
   "execution_count": null,
   "metadata": {},
   "outputs": [],
   "source": [
    "sprintf(\"Control: %i individuals\\nCase: %i individuals\",\n",
    "        count_case_control[\"Control\"],\n",
    "        count_case_control[\"Case\"]) %>% cat()"
   ]
  },
  {
   "cell_type": "markdown",
   "metadata": {},
   "source": [
    "### 4. Univariate statistical tests"
   ]
  },
  {
   "cell_type": "markdown",
   "metadata": {},
   "source": [
    "Univariate logistic regression models will be runned using each phenotypical variable as the regressor, and Likelihood Ratio Test p-values for the model will be used to assess the significance of the association"
   ]
  },
  {
   "cell_type": "code",
   "execution_count": null,
   "metadata": {},
   "outputs": [],
   "source": [
    "## Unified univariate tests\n",
    "### Likelihood ratio test of a logistic model including the independent variable over model without this variable\n",
    "anova_model <- function(data, dependent_var, independent_var) {\n",
    "    model <- glm(as.formula(paste(dependent_var, \"~ 1 +\", independent_var)),\n",
    "                 data = data,\n",
    "                 family = binomial(link=\"logit\"))\n",
    "    model_reduced <- glm(as.formula(paste(dependent_var, \"~ 1\")),\n",
    "                         data = data,\n",
    "                         family = binomial(link=\"logit\"))\n",
    "    p_val <- anova(model, model_reduced, test =  \"LRT\")[2, \"Pr(>Chi)\"]\n",
    "    return(p_val)    \n",
    "}"
   ]
  },
  {
   "cell_type": "code",
   "execution_count": null,
   "metadata": {},
   "outputs": [],
   "source": [
    "independent_varnames = c(categorical_varnames, continuous_varnames)"
   ]
  },
  {
   "cell_type": "code",
   "execution_count": null,
   "metadata": {},
   "outputs": [],
   "source": [
    "pvalues_list = list()\n",
    "error_list =  list()\n",
    "warning_list = list()\n",
    "cat(\"length categorical\", length(categorical_varnames), \"\\n\")\n",
    "cat(\"length independent\", length(independent_varnames), \"\\n\")"
   ]
  },
  {
   "cell_type": "code",
   "execution_count": null,
   "metadata": {},
   "outputs": [],
   "source": [
    "for (independent_varname in independent_varnames) {\n",
    "    dataset <- na.omit(facts[, c(dependent_varname, independent_varname)])\n",
    "    tryCatch({\n",
    "                pvalues_list[[independent_varname]] <- anova_model(dataset, dependent_varname, independent_varname)\n",
    "#                error_list[[independent_varname]] <- NA\n",
    " #               warning_list[[independent_varname]] <- NA\n",
    "    },\n",
    "             error = function(e) {\n",
    "                print(paste(\"error\", independent_varname))\n",
    "                pvalues_list[[independent_varname]] <- NA\n",
    "                error_list[[independent_varname]] <- e\n",
    "                warning_list[[independent_varname]] <- NA\n",
    "             },\n",
    "             warning = function(w) {\n",
    "                print(paste(\"warning\", independent_varname))\n",
    "                pvalues_list[[independent_varname]] <- NA\n",
    "                error_list[[independent_varname]] <- NA\n",
    "                warning_list[[independent_varname]] <- w                 \n",
    "             }\n",
    "        )\n",
    "}"
   ]
  },
  {
   "cell_type": "code",
   "execution_count": null,
   "metadata": {},
   "outputs": [],
   "source": [
    "df_pvalues <- data.frame(\n",
    "    \"df_name\" = names(pvalues_list),\n",
    "    \"pvalues\" = simplify(unname(pvalues_list)), \n",
    "    stringsAsFactors = F\n",
    ")"
   ]
  },
  {
   "cell_type": "code",
   "execution_count": null,
   "metadata": {},
   "outputs": [],
   "source": [
    "df_pvalues[[\"log_pvalues\"]] <- -log10(df_pvalues$pvalues)"
   ]
  },
  {
   "cell_type": "code",
   "execution_count": null,
   "metadata": {
    "scrolled": true
   },
   "outputs": [],
   "source": [
    "multiIndex_enhanced <- dplyr::left_join(multiIndex, df_pvalues, by=\"df_name\")\n",
    "variablesDict_enhanced <- dplyr::left_join(variablesDict, df_pvalues, by=\"df_name\")"
   ]
  },
  {
   "cell_type": "code",
   "execution_count": null,
   "metadata": {},
   "outputs": [],
   "source": [
    "head(variablesDict_enhanced)"
   ]
  },
  {
   "cell_type": "markdown",
   "metadata": {},
   "source": [
    "#### Univariate test p-values distribution"
   ]
  },
  {
   "cell_type": "code",
   "execution_count": null,
   "metadata": {},
   "outputs": [],
   "source": [
    "ggplot(aes_string(x = \"pvalues\", \n",
    "                 fill = \"categorical\"),\n",
    "       data = variablesDict_enhanced) +\n",
    "geom_histogram(bins=20, position = \"dodge\") +\n",
    "scale_fill_brewer(palette='Paired') + \n",
    "labs(title = \"Distribution of non-adjusted p-values among tested phenotypes \", \n",
    "    subtitle = expression(italic(\"Likelihood Ratio Test\"))) +\n",
    "xlab(\"Unadjusted p-values\") +\n",
    "ylab(\"Count\") +\n",
    "theme_bw()"
   ]
  },
  {
   "cell_type": "markdown",
   "metadata": {},
   "source": [
    "## 5. Multiple hypotheses testing correction: Bonferroni Method"
   ]
  },
  {
   "cell_type": "markdown",
   "metadata": {},
   "source": [
    "In order to handle the multiple comparison issue (increase in the probability to \"discover\" false statistical associations, because of the number of tests performed), we will use the Bonferroni correction method. Although many other multiple comparison exist, Bonferroni is the most straightforward to use, because it doesn't require assumptions about variables correlation. Other PheWAS analysis also use False Discovery Rate controlling procedures ([see reference](https://en.wikipedia.org/wiki/False_discovery_rate))."
   ]
  },
  {
   "cell_type": "markdown",
   "metadata": {},
   "source": [
    "In a nutshell, Bonferonni allows to calculate a corrected \"statistical significant threshold\" according to the number of test performed. Every p-value below this threshold will be deemed statistically significant."
   ]
  },
  {
   "cell_type": "code",
   "execution_count": null,
   "metadata": {},
   "outputs": [],
   "source": [
    "variablesDict_enhanced$adj_pvalues <- p.adjust(variablesDict_enhanced$pvalues, method=\"bonferroni\")"
   ]
  },
  {
   "cell_type": "code",
   "execution_count": null,
   "metadata": {},
   "outputs": [],
   "source": [
    "variablesDict_enhanced$log_adj_pvalues <- -log10(variablesDict_enhanced$adj_pvalues)"
   ]
  },
  {
   "cell_type": "markdown",
   "metadata": {},
   "source": [
    "## 6. Result visualisations: Manhattan plot"
   ]
  },
  {
   "cell_type": "markdown",
   "metadata": {},
   "source": [
    "Manhattan plot is the classical results representation of a PheWAS analysis. It plots every each tested phenotypical variables on the X-axis, against its *-log(pvalue)* on the Y-axis. The horizontal line represent the adjusted significance level threshold."
   ]
  },
  {
   "cell_type": "markdown",
   "metadata": {},
   "source": [
    "#### Preparing data"
   ]
  },
  {
   "cell_type": "code",
   "execution_count": null,
   "metadata": {},
   "outputs": [],
   "source": [
    "corrected_alpha <- 0.05/length(variablesDict_enhanced$pvalues) # Using Bonferonni method\n",
    "adj_corrected_alpha <- -log10(corrected_alpha)"
   ]
  },
  {
   "cell_type": "code",
   "execution_count": null,
   "metadata": {},
   "outputs": [],
   "source": [
    "non_nan <- which(!is.na(variablesDict_enhanced$pvalues))\n",
    "plot_df <- multiIndex_enhanced[non_nan, ]\n",
    "plot_df$log_pvalues <- round(plot_df$log_pvalues, 5)\n",
    "\n",
    "plot_df = multiIndex[, c(\"df_name\", \"level_3\")] %>% \n",
    "plyr::rename(replace = c(\"level_3\" = \"category\")) %>%\n",
    "right_join(plot_df, by=\"df_name\")\n",
    "\n",
    "plot_df$df_name <- as.factor(plot_df$df_name)\n",
    "plot_df <- plot_df[order(plot_df$category),]\n",
    "plot_df$category <- factor(plot_df$category)\n",
    "plot_df$name <- factor(plot_df$name, levels=plot_df$name[order(plot_df$category)])"
   ]
  },
  {
   "cell_type": "code",
   "execution_count": null,
   "metadata": {},
   "outputs": [],
   "source": [
    "# Suppressing Inf log(p-values)\n",
    "plot_df <- plot_df[plot_df$log_pvalues != Inf,]"
   ]
  },
  {
   "cell_type": "code",
   "execution_count": null,
   "metadata": {},
   "outputs": [],
   "source": [
    "# Selecting 4 largest p-values, to be annotated in the Manatthan plot\n",
    "\n",
    "largest_pvalues_indices <- order(plot_df[[\"log_pvalues\"]], decreasing=T)[1:4]\n",
    "plot_df$to_annotate <- \"no\"\n",
    "plot_df[largest_pvalues_indices, \"to_annotate\"] <- \"yes\""
   ]
  },
  {
   "cell_type": "markdown",
   "metadata": {},
   "source": [
    "#### Plotting the data"
   ]
  },
  {
   "cell_type": "code",
   "execution_count": null,
   "metadata": {},
   "outputs": [],
   "source": [
    "options(repr.plot.width=12, repr.plot.height=8)"
   ]
  },
  {
   "cell_type": "code",
   "execution_count": null,
   "metadata": {},
   "outputs": [],
   "source": [
    "my_theme <- theme_bw() + \n",
    "theme(axis.title.y = element_text(face=\"italic\", size=15),\n",
    "      title = element_text(size=20),\n",
    "      axis.title.x = element_text(size=15),\n",
    "      axis.text.x = element_text(angle=35, hjust=1),\n",
    "      legend.position = \"none\",\n",
    "      panel.grid.major.x = element_blank()\n",
    "      )\n"
   ]
  },
  {
   "cell_type": "code",
   "execution_count": null,
   "metadata": {},
   "outputs": [],
   "source": [
    "paired_colors <- c(\"navyblue\", \"lightskyblue\")\n",
    "#paired_colors <- c(\"green\", \"red\")"
   ]
  },
  {
   "cell_type": "code",
   "execution_count": null,
   "metadata": {},
   "outputs": [],
   "source": [
    "# Manatthan plot using geom_jitter --> more suitable when number of point per category is enough\n",
    "ggplot(plot_df, aes(x=category, y=log_pvalues)) +\n",
    "geom_jitter(alpha=1, aes_string(colour=\"category\"), \n",
    "           width=0.5,\n",
    "           size=3) +\n",
    "geom_hline(yintercept=adj_corrected_alpha, linetype=\"dashed\") +\n",
    "scale_y_continuous(expand = c(0, 20) ) +\n",
    "scale_color_manual(values = rep(paired_colors, times=20)) +\n",
    "geom_label_repel( data=subset(plot_df, to_annotate==\"yes\"), aes(label=simplified_name), size=3.5) +\n",
    "labs(title=\"Association between phenotypes variables and gene mutation (COPD status)\", \n",
    "    x=\"Phenotypes\", \n",
    "    y=\"- log10(p-values)\",\n",
    "    colour=\"Phenotypes categories\") +\n",
    "my_theme\n",
    "\n"
   ]
  },
  {
   "cell_type": "markdown",
   "metadata": {},
   "source": [
    "Overall, it appears that most of the tested phenotypes covariates are above the adjusted threshold of significant association. However, it is not surprising at all, given the nature of our dependent variable: a lot of those variables are by nature tied directly to the COPD status. For instance, the 4 highest p-values (distance walked in feet, nebulizer for inhaled medication, too breathless to leave the house) are direct consequences of COPD disease."
   ]
  },
  {
   "cell_type": "markdown",
   "metadata": {},
   "source": [
    "This code can be used directly with any other variable present in the variable Dictionary. It only need to change the `dependent_varname` value."
   ]
  }
 ],
 "metadata": {
  "jupytext": {
   "formats": "ipynb,Rmd"
  },
  "kernelspec": {
   "display_name": "R",
   "language": "R",
   "name": "ir"
  },
  "language_info": {
   "codemirror_mode": "r",
   "file_extension": ".r",
   "mimetype": "text/x-r-source",
   "name": "R",
   "pygments_lexer": "r",
   "version": "3.6.1"
  }
 },
 "nbformat": 4,
 "nbformat_minor": 4
}
