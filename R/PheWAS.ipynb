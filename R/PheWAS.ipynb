{
 "cells": [
  {
   "cell_type": "markdown",
   "metadata": {},
   "source": [
    "# Phenome-Wide analysis on COPDgene data: R PIC-SURE API use-case"
   ]
  },
  {
   "cell_type": "markdown",
   "metadata": {},
   "source": [
    "This notebook is an illustration example of how to use the R **PIC-SURE API** to select and query data from an HPDS-hosted database. It takes as use-case a simple PheWAS analysis. This notebook is intentionally straightforward, and explanation provided are only aimed at guiding through the PheWAS analysis pipeline. For a more step-by-step introduction to the R PIC-SURE API, see the `R_PICSURE-API_101_PheWAS_example.ipynb` Notebook."
   ]
  },
  {
   "cell_type": "markdown",
   "metadata": {},
   "source": [
    "**Before running this notebook, please be sure to get an user-specific security token. For more information on how to proceed, see the `HPDS_connection.ipynb` notebook**"
   ]
  },
  {
   "cell_type": "markdown",
   "metadata": {},
   "source": [
    "## Environment set-up"
   ]
  },
  {
   "cell_type": "markdown",
   "metadata": {},
   "source": [
    "### System requirements\n",
    "- R 3.5 or later"
   ]
  },
  {
   "cell_type": "markdown",
   "metadata": {},
   "source": [
    "### Packages installation"
   ]
  },
  {
   "cell_type": "code",
   "execution_count": 2,
   "metadata": {},
   "outputs": [
    {
     "name": "stderr",
     "output_type": "stream",
     "text": [
      "Loading required package: ggplot2\n",
      "\n",
      "\n",
      "Attaching package: ‘dplyr’\n",
      "\n",
      "\n",
      "The following objects are masked from ‘package:plyr’:\n",
      "\n",
      "    arrange, count, desc, failwith, id, mutate, rename, summarise,\n",
      "    summarize\n",
      "\n",
      "\n",
      "The following objects are masked from ‘package:stats’:\n",
      "\n",
      "    filter, lag\n",
      "\n",
      "\n",
      "The following objects are masked from ‘package:base’:\n",
      "\n",
      "    intersect, setdiff, setequal, union\n",
      "\n",
      "\n",
      "\n",
      "Attaching package: ‘purrr’\n",
      "\n",
      "\n",
      "The following object is masked from ‘package:plyr’:\n",
      "\n",
      "    compact\n",
      "\n",
      "\n",
      "The following object is masked from ‘package:jsonlite’:\n",
      "\n",
      "    flatten\n",
      "\n",
      "\n",
      "Loading required package: usethis\n",
      "\n"
     ]
    }
   ],
   "source": [
    "list_packages <- c(\"ggrepel\",\n",
    "                   \"jsonlite\", \n",
    "                   \"ggplot2\",\n",
    "                   \"plyr\",\n",
    "                   \"dplyr\",\n",
    "                   \"tidyr\",\n",
    "                   \"purrr\",\n",
    "                   \"devtools\")\n",
    "\n",
    "for (package in list_packages){\n",
    "     if(! package %in% installed.packages()){\n",
    "         install.packages(package, dependencies = TRUE)\n",
    "     }\n",
    "     library(package, character.only = TRUE)\n",
    "}"
   ]
  },
  {
   "cell_type": "markdown",
   "metadata": {},
   "source": [
    "#### Installing latest R PIC-SURE API libraries from github"
   ]
  },
  {
   "cell_type": "code",
   "execution_count": 1,
   "metadata": {},
   "outputs": [
    {
     "name": "stderr",
     "output_type": "stream",
     "text": [
      "Downloading GitHub repo hms-dbmi/pic-sure-r-client@master\n",
      "\n"
     ]
    },
    {
     "name": "stdout",
     "output_type": "stream",
     "text": [
      "\n",
      "\u001b[32m✔\u001b[39m  \u001b[38;5;247mchecking for file ‘/private/var/folders/hm/wn0bpy0j7vl2q9gqnhhccpph0000gn/T/Rtmp0moHOz/remotes4dc225695739/hms-dbmi-pic-sure-r-client-d62fec5/DESCRIPTION’\u001b[39m\u001b[36m\u001b[36m (357ms)\u001b[36m\u001b[39m\n",
      "\u001b[38;5;247m─\u001b[39m\u001b[38;5;247m  \u001b[39m\u001b[38;5;247mpreparing ‘picsure’:\u001b[39m\u001b[36m\u001b[39m\n",
      "\u001b[32m✔\u001b[39m  \u001b[38;5;247mchecking DESCRIPTION meta-information\u001b[39m\u001b[36m\u001b[39m\n",
      "\u001b[38;5;247m─\u001b[39m\u001b[38;5;247m  \u001b[39m\u001b[38;5;247mchecking for LF line-endings in source and make files and shell scripts\u001b[39m\u001b[36m\u001b[39m\n",
      "\u001b[38;5;247m─\u001b[39m\u001b[38;5;247m  \u001b[39m\u001b[38;5;247mchecking for empty or unneeded directories\u001b[39m\u001b[36m\u001b[39m\n",
      "\u001b[38;5;247m─\u001b[39m\u001b[38;5;247m  \u001b[39m\u001b[38;5;247mbuilding ‘picsure_0.1.0.tar.gz’\u001b[39m\u001b[36m\u001b[39m\n",
      "   \n",
      "\r"
     ]
    },
    {
     "name": "stderr",
     "output_type": "stream",
     "text": [
      "Downloading GitHub repo hms-dbmi/pic-sure-r-adapter-hpds@master\n",
      "\n"
     ]
    },
    {
     "name": "stdout",
     "output_type": "stream",
     "text": [
      "\n",
      "\u001b[32m✔\u001b[39m  \u001b[38;5;247mchecking for file ‘/private/var/folders/hm/wn0bpy0j7vl2q9gqnhhccpph0000gn/T/Rtmp0moHOz/remotes4dc253c9fdba/hms-dbmi-pic-sure-r-adapter-hpds-3279fc3/DESCRIPTION’\u001b[39m\u001b[36m\u001b[39m\n",
      "\u001b[38;5;247m─\u001b[39m\u001b[38;5;247m  \u001b[39m\u001b[38;5;247mpreparing ‘hpds’:\u001b[39m\u001b[36m\u001b[39m\n",
      "\u001b[32m✔\u001b[39m  \u001b[38;5;247mchecking DESCRIPTION meta-information\u001b[39m\u001b[36m\u001b[39m\n",
      "\u001b[38;5;247m─\u001b[39m\u001b[38;5;247m  \u001b[39m\u001b[38;5;247mchecking for LF line-endings in source and make files and shell scripts\u001b[39m\u001b[36m\u001b[39m\n",
      "\u001b[38;5;247m─\u001b[39m\u001b[38;5;247m  \u001b[39m\u001b[38;5;247mchecking for empty or unneeded directories\u001b[39m\u001b[36m\u001b[39m\n",
      "\u001b[38;5;247m─\u001b[39m\u001b[38;5;247m  \u001b[39m\u001b[38;5;247mbuilding ‘hpds_0.1.0.tar.gz’\u001b[39m\u001b[36m\u001b[39m\n",
      "   \n",
      "\r"
     ]
    }
   ],
   "source": [
    "devtools::install_github(\"hms-dbmi/pic-sure-r-client\", force=T)\n",
    "devtools::install_github(\"hms-dbmi/pic-sure-r-adapter-hpds\", force=T)"
   ]
  },
  {
   "cell_type": "markdown",
   "metadata": {},
   "source": [
    "#### Loading user-defined functions"
   ]
  },
  {
   "cell_type": "code",
   "execution_count": 3,
   "metadata": {},
   "outputs": [],
   "source": [
    "source(\"R_lib/utils.R\")"
   ]
  },
  {
   "cell_type": "markdown",
   "metadata": {},
   "source": [
    "## Connecting to a PIC-SURE network"
   ]
  },
  {
   "cell_type": "code",
   "execution_count": 4,
   "metadata": {},
   "outputs": [],
   "source": [
    "PICSURE_network_URL <- \"https://biodatacatalyst.integration.hms.harvard.edu/picsure\"\n",
    "resource_id <- \"02e23f52-f354-4e8b-992c-d37c8b9ba140\"\n",
    "token_file <- \"token.txt\""
   ]
  },
  {
   "cell_type": "code",
   "execution_count": 5,
   "metadata": {},
   "outputs": [],
   "source": [
    "token <- TokenManager(token_file)"
   ]
  },
  {
   "cell_type": "code",
   "execution_count": 6,
   "metadata": {},
   "outputs": [],
   "source": [
    "myconnection <- picsure::connect(url = PICSURE_network_URL,\n",
    "                                 token = token)"
   ]
  },
  {
   "cell_type": "code",
   "execution_count": 7,
   "metadata": {},
   "outputs": [],
   "source": [
    "resource <- hpds::get.resource(myconnection,\n",
    "                               resourceUUID = resource_id)"
   ]
  },
  {
   "cell_type": "markdown",
   "metadata": {},
   "source": [
    "## PheWAS analysis"
   ]
  },
  {
   "cell_type": "markdown",
   "metadata": {},
   "source": [
    "In a nutshell, this PheWAS analysis follows those subsequent steps:\n",
    "- Retrieving the variables dictionary, using the PIC-SURE API dedicated methods\n",
    "- From the info provided by the dictionary, retrieving the data in an exploitable format through PIC-SURE API calls\n",
    "- Data management\n",
    "- Running univariate tests again every phenotypes variable\n",
    "- Adjusting for multiple testing issue\n",
    "- Plotting the results\n",
    "\n",
    "\n",
    "This analysis is conducted using COPDGene Study data. The study overall goal is to detect underlying genetic factors to develop Chronic Obstructive Pulmonary Disease (COPD), and enrolled more than 10,000 individuals ([more information on COPDGene Study](http://www.copdgene.org))."
   ]
  },
  {
   "cell_type": "markdown",
   "metadata": {},
   "source": [
    "### 1. Retrieving variable dictionary from HPDS Database"
   ]
  },
  {
   "cell_type": "code",
   "execution_count": 8,
   "metadata": {},
   "outputs": [],
   "source": [
    "copdgene_variables <- hpds::find.in.dictionary(resource, \"Genetic Epidemiology of COPD (COPDGene)\")\n",
    "consent_variable <- hpds::find.in.dictionary(resource, \"Study Accession with Consent Code\")"
   ]
  },
  {
   "cell_type": "code",
   "execution_count": 9,
   "metadata": {},
   "outputs": [],
   "source": [
    "copdgene_dic <- hpds::extract.dataframe(copdgene_variables)\n",
    "consent_dic <- hpds::extract.dataframe(consent_variable)\n",
    "variablesDict <- dplyr::bind_rows(copdgene_dic, consent_dic) %>% dplyr::arrange(name)"
   ]
  },
  {
   "cell_type": "code",
   "execution_count": 158,
   "metadata": {
    "collapsed": true,
    "jupyter": {
     "outputs_hidden": true
    }
   },
   "outputs": [
    {
     "data": {
      "text/html": [
       "<table>\n",
       "<caption>A tibble: 6 × 8</caption>\n",
       "<thead>\n",
       "\t<tr><th scope=col>level_1</th><th scope=col>level_2</th><th scope=col>level_3</th><th scope=col>level_4</th><th scope=col>level_5</th><th scope=col>level_6</th><th scope=col>name</th><th scope=col>simplified_name</th></tr>\n",
       "\t<tr><th scope=col>&lt;chr&gt;</th><th scope=col>&lt;chr&gt;</th><th scope=col>&lt;chr&gt;</th><th scope=col>&lt;chr&gt;</th><th scope=col>&lt;chr&gt;</th><th scope=col>&lt;chr&gt;</th><th scope=col>&lt;chr&gt;</th><th scope=col>&lt;chr&gt;</th></tr>\n",
       "</thead>\n",
       "<tbody>\n",
       "\t<tr><td>Genetic Epidemiology of COPD (COPDGene)</td><td>Subject Phenotype</td><td>CT Acquisition Parameters</td><td>CT Slicer                     </td><td>Percent gas trapping total lung: CT Slicer</td><td>NA                                                        </td><td>\\Genetic Epidemiology of COPD (COPDGene)\\Subject Phenotype\\CT Acquisition Parameters\\CT Slicer\\Percent gas trapping total lung: CT Slicer\\                                         </td><td>Percent gas trapping total lung: CT Slicer                </td></tr>\n",
       "\t<tr><td>Genetic Epidemiology of COPD (COPDGene)</td><td>Subject Phenotype</td><td>Respiratory Disease      </td><td>Environmental Exposures       </td><td>Second-hand Smoke Exposure                </td><td>How many years exposed to smoke at work [years]           </td><td>\\Genetic Epidemiology of COPD (COPDGene)\\Subject Phenotype\\Respiratory Disease\\Environmental Exposures\\Second-hand Smoke Exposure\\How many years exposed to smoke at work [years]\\</td><td>How many years exposed to smoke at work [years]           </td></tr>\n",
       "\t<tr><td>Genetic Epidemiology of COPD (COPDGene)</td><td>Subject Phenotype</td><td>Respiratory Disease      </td><td>Family History                </td><td>Asthma: Father or Mother                  </td><td>Father: asthma                                            </td><td>\\Genetic Epidemiology of COPD (COPDGene)\\Subject Phenotype\\Respiratory Disease\\Family History\\Asthma: Father or Mother\\Father: asthma\\                                            </td><td>Father: asthma                                            </td></tr>\n",
       "\t<tr><td>Genetic Epidemiology of COPD (COPDGene)</td><td>Subject Phenotype</td><td>Respiratory Disease      </td><td>Respiratory Conditions        </td><td>Hayfever                                  </td><td>Hayfever: diagnosed by doctor or other health professional</td><td>\\Genetic Epidemiology of COPD (COPDGene)\\Subject Phenotype\\Respiratory Disease\\Respiratory Conditions\\Hayfever\\Hayfever: diagnosed by doctor or other health professional\\        </td><td>Hayfever: diagnosed by doctor or other health professional</td></tr>\n",
       "\t<tr><td>Genetic Epidemiology of COPD (COPDGene)</td><td>Subject Phenotype</td><td>Respiratory Disease      </td><td>Environmental Exposures       </td><td>Cigar Smoking                             </td><td>Have you ever smoked cigars regularly?                    </td><td>\\Genetic Epidemiology of COPD (COPDGene)\\Subject Phenotype\\Respiratory Disease\\Environmental Exposures\\Cigar Smoking\\Have you ever smoked cigars regularly?\\                      </td><td>Have you ever smoked cigars regularly?                    </td></tr>\n",
       "\t<tr><td>Genetic Epidemiology of COPD (COPDGene)</td><td>Subject Phenotype</td><td>6MinWalk                 </td><td>Six minute walk: course layout</td><td>NA                                        </td><td>NA                                                        </td><td>\\Genetic Epidemiology of COPD (COPDGene)\\Subject Phenotype\\6MinWalk\\Six minute walk: course layout\\                                                                                 </td><td>Six minute walk: course layout                            </td></tr>\n",
       "</tbody>\n",
       "</table>\n"
      ],
      "text/latex": [
       "A tibble: 6 × 8\n",
       "\\begin{tabular}{r|llllllll}\n",
       " level\\_1 & level\\_2 & level\\_3 & level\\_4 & level\\_5 & level\\_6 & name & simplified\\_name\\\\\n",
       " <chr> & <chr> & <chr> & <chr> & <chr> & <chr> & <chr> & <chr>\\\\\n",
       "\\hline\n",
       "\t Genetic Epidemiology of COPD (COPDGene) & Subject Phenotype & CT Acquisition Parameters & CT Slicer                      & Percent gas trapping total lung: CT Slicer & NA                                                         & \\textbackslash{}Genetic Epidemiology of COPD (COPDGene)\\textbackslash{}Subject Phenotype\\textbackslash{}CT Acquisition Parameters\\textbackslash{}CT Slicer\\textbackslash{}Percent gas trapping total lung: CT Slicer\\textbackslash{}                                          & Percent gas trapping total lung: CT Slicer                \\\\\n",
       "\t Genetic Epidemiology of COPD (COPDGene) & Subject Phenotype & Respiratory Disease       & Environmental Exposures        & Second-hand Smoke Exposure                 & How many years exposed to smoke at work {[}years{]}            & \\textbackslash{}Genetic Epidemiology of COPD (COPDGene)\\textbackslash{}Subject Phenotype\\textbackslash{}Respiratory Disease\\textbackslash{}Environmental Exposures\\textbackslash{}Second-hand Smoke Exposure\\textbackslash{}How many years exposed to smoke at work {[}years{]}\\textbackslash{} & How many years exposed to smoke at work {[}years{]}           \\\\\n",
       "\t Genetic Epidemiology of COPD (COPDGene) & Subject Phenotype & Respiratory Disease       & Family History                 & Asthma: Father or Mother                   & Father: asthma                                             & \\textbackslash{}Genetic Epidemiology of COPD (COPDGene)\\textbackslash{}Subject Phenotype\\textbackslash{}Respiratory Disease\\textbackslash{}Family History\\textbackslash{}Asthma: Father or Mother\\textbackslash{}Father: asthma\\textbackslash{}                                             & Father: asthma                                            \\\\\n",
       "\t Genetic Epidemiology of COPD (COPDGene) & Subject Phenotype & Respiratory Disease       & Respiratory Conditions         & Hayfever                                   & Hayfever: diagnosed by doctor or other health professional & \\textbackslash{}Genetic Epidemiology of COPD (COPDGene)\\textbackslash{}Subject Phenotype\\textbackslash{}Respiratory Disease\\textbackslash{}Respiratory Conditions\\textbackslash{}Hayfever\\textbackslash{}Hayfever: diagnosed by doctor or other health professional\\textbackslash{}         & Hayfever: diagnosed by doctor or other health professional\\\\\n",
       "\t Genetic Epidemiology of COPD (COPDGene) & Subject Phenotype & Respiratory Disease       & Environmental Exposures        & Cigar Smoking                              & Have you ever smoked cigars regularly?                     & \\textbackslash{}Genetic Epidemiology of COPD (COPDGene)\\textbackslash{}Subject Phenotype\\textbackslash{}Respiratory Disease\\textbackslash{}Environmental Exposures\\textbackslash{}Cigar Smoking\\textbackslash{}Have you ever smoked cigars regularly?\\textbackslash{}                       & Have you ever smoked cigars regularly?                    \\\\\n",
       "\t Genetic Epidemiology of COPD (COPDGene) & Subject Phenotype & 6MinWalk                  & Six minute walk: course layout & NA                                         & NA                                                         & \\textbackslash{}Genetic Epidemiology of COPD (COPDGene)\\textbackslash{}Subject Phenotype\\textbackslash{}6MinWalk\\textbackslash{}Six minute walk: course layout\\textbackslash{}                                                                                  & Six minute walk: course layout                            \\\\\n",
       "\\end{tabular}\n"
      ],
      "text/markdown": [
       "\n",
       "A tibble: 6 × 8\n",
       "\n",
       "| level_1 &lt;chr&gt; | level_2 &lt;chr&gt; | level_3 &lt;chr&gt; | level_4 &lt;chr&gt; | level_5 &lt;chr&gt; | level_6 &lt;chr&gt; | name &lt;chr&gt; | simplified_name &lt;chr&gt; |\n",
       "|---|---|---|---|---|---|---|---|\n",
       "| Genetic Epidemiology of COPD (COPDGene) | Subject Phenotype | CT Acquisition Parameters | CT Slicer                      | Percent gas trapping total lung: CT Slicer | NA                                                         | \\Genetic Epidemiology of COPD (COPDGene)\\Subject Phenotype\\CT Acquisition Parameters\\CT Slicer\\Percent gas trapping total lung: CT Slicer\\                                          | Percent gas trapping total lung: CT Slicer                 |\n",
       "| Genetic Epidemiology of COPD (COPDGene) | Subject Phenotype | Respiratory Disease       | Environmental Exposures        | Second-hand Smoke Exposure                 | How many years exposed to smoke at work [years]            | \\Genetic Epidemiology of COPD (COPDGene)\\Subject Phenotype\\Respiratory Disease\\Environmental Exposures\\Second-hand Smoke Exposure\\How many years exposed to smoke at work [years]\\ | How many years exposed to smoke at work [years]            |\n",
       "| Genetic Epidemiology of COPD (COPDGene) | Subject Phenotype | Respiratory Disease       | Family History                 | Asthma: Father or Mother                   | Father: asthma                                             | \\Genetic Epidemiology of COPD (COPDGene)\\Subject Phenotype\\Respiratory Disease\\Family History\\Asthma: Father or Mother\\Father: asthma\\                                             | Father: asthma                                             |\n",
       "| Genetic Epidemiology of COPD (COPDGene) | Subject Phenotype | Respiratory Disease       | Respiratory Conditions         | Hayfever                                   | Hayfever: diagnosed by doctor or other health professional | \\Genetic Epidemiology of COPD (COPDGene)\\Subject Phenotype\\Respiratory Disease\\Respiratory Conditions\\Hayfever\\Hayfever: diagnosed by doctor or other health professional\\         | Hayfever: diagnosed by doctor or other health professional |\n",
       "| Genetic Epidemiology of COPD (COPDGene) | Subject Phenotype | Respiratory Disease       | Environmental Exposures        | Cigar Smoking                              | Have you ever smoked cigars regularly?                     | \\Genetic Epidemiology of COPD (COPDGene)\\Subject Phenotype\\Respiratory Disease\\Environmental Exposures\\Cigar Smoking\\Have you ever smoked cigars regularly?\\                       | Have you ever smoked cigars regularly?                     |\n",
       "| Genetic Epidemiology of COPD (COPDGene) | Subject Phenotype | 6MinWalk                  | Six minute walk: course layout | NA                                         | NA                                                         | \\Genetic Epidemiology of COPD (COPDGene)\\Subject Phenotype\\6MinWalk\\Six minute walk: course layout\\                                                                                  | Six minute walk: course layout                             |\n",
       "\n"
      ],
      "text/plain": [
       "  level_1                                 level_2          \n",
       "1 Genetic Epidemiology of COPD (COPDGene) Subject Phenotype\n",
       "2 Genetic Epidemiology of COPD (COPDGene) Subject Phenotype\n",
       "3 Genetic Epidemiology of COPD (COPDGene) Subject Phenotype\n",
       "4 Genetic Epidemiology of COPD (COPDGene) Subject Phenotype\n",
       "5 Genetic Epidemiology of COPD (COPDGene) Subject Phenotype\n",
       "6 Genetic Epidemiology of COPD (COPDGene) Subject Phenotype\n",
       "  level_3                   level_4                       \n",
       "1 CT Acquisition Parameters CT Slicer                     \n",
       "2 Respiratory Disease       Environmental Exposures       \n",
       "3 Respiratory Disease       Family History                \n",
       "4 Respiratory Disease       Respiratory Conditions        \n",
       "5 Respiratory Disease       Environmental Exposures       \n",
       "6 6MinWalk                  Six minute walk: course layout\n",
       "  level_5                                   \n",
       "1 Percent gas trapping total lung: CT Slicer\n",
       "2 Second-hand Smoke Exposure                \n",
       "3 Asthma: Father or Mother                  \n",
       "4 Hayfever                                  \n",
       "5 Cigar Smoking                             \n",
       "6 NA                                        \n",
       "  level_6                                                   \n",
       "1 NA                                                        \n",
       "2 How many years exposed to smoke at work [years]           \n",
       "3 Father: asthma                                            \n",
       "4 Hayfever: diagnosed by doctor or other health professional\n",
       "5 Have you ever smoked cigars regularly?                    \n",
       "6 NA                                                        \n",
       "  name                                                                                                                                                                                     \n",
       "1 \\\\Genetic Epidemiology of COPD (COPDGene)\\\\Subject Phenotype\\\\CT Acquisition Parameters\\\\CT Slicer\\\\Percent gas trapping total lung: CT Slicer\\\\                                         \n",
       "2 \\\\Genetic Epidemiology of COPD (COPDGene)\\\\Subject Phenotype\\\\Respiratory Disease\\\\Environmental Exposures\\\\Second-hand Smoke Exposure\\\\How many years exposed to smoke at work [years]\\\\\n",
       "3 \\\\Genetic Epidemiology of COPD (COPDGene)\\\\Subject Phenotype\\\\Respiratory Disease\\\\Family History\\\\Asthma: Father or Mother\\\\Father: asthma\\\\                                            \n",
       "4 \\\\Genetic Epidemiology of COPD (COPDGene)\\\\Subject Phenotype\\\\Respiratory Disease\\\\Respiratory Conditions\\\\Hayfever\\\\Hayfever: diagnosed by doctor or other health professional\\\\        \n",
       "5 \\\\Genetic Epidemiology of COPD (COPDGene)\\\\Subject Phenotype\\\\Respiratory Disease\\\\Environmental Exposures\\\\Cigar Smoking\\\\Have you ever smoked cigars regularly?\\\\                      \n",
       "6 \\\\Genetic Epidemiology of COPD (COPDGene)\\\\Subject Phenotype\\\\6MinWalk\\\\Six minute walk: course layout\\\\                                                                                 \n",
       "  simplified_name                                           \n",
       "1 Percent gas trapping total lung: CT Slicer                \n",
       "2 How many years exposed to smoke at work [years]           \n",
       "3 Father: asthma                                            \n",
       "4 Hayfever: diagnosed by doctor or other health professional\n",
       "5 Have you ever smoked cigars regularly?                    \n",
       "6 Six minute walk: course layout                            "
      ]
     },
     "metadata": {},
     "output_type": "display_data"
    }
   ],
   "source": [
    "# Display the variables tree hierarchy from the variables name\n",
    "multiIndex <- get_multiIndex(variablesDict)\n",
    "head(multiIndex)"
   ]
  },
  {
   "cell_type": "markdown",
   "metadata": {},
   "source": [
    "### 2. Selecting variables and retrieving data from HPDS"
   ]
  },
  {
   "cell_type": "markdown",
   "metadata": {},
   "source": [
    "Subseting to keep only the phenotypical variables + the \"affection status\", that will be used as the dependent variable for this illustration use-case."
   ]
  },
  {
   "cell_type": "code",
   "execution_count": 18,
   "metadata": {},
   "outputs": [],
   "source": [
    "mask_copdgene <- multiIndex[\"level_1\"] == 'Genetic Epidemiology of COPD (COPDGene)'\n",
    "mask_pheno <- multiIndex[\"level_2\"] == 'Subject Phenotype'\n",
    "mask_status <- multiIndex[\"level_3\"] == 'Affection status'\n",
    "mask_to_drop <- multiIndex[[\"simplified_name\"]] %in% list(\"Dbgap_id\", \"De-identified site code\", \"A1AD: phenotype/genotype\")\n",
    "mask_vars <- mask_copdgene & (mask_pheno | mask_status) & !mask_to_drop\n",
    "selected_vars <- variablesDict[mask_vars, \"name\"] %>% as.list()"
   ]
  },
  {
   "cell_type": "code",
   "execution_count": 19,
   "metadata": {},
   "outputs": [
    {
     "name": "stdout",
     "output_type": "stream",
     "text": [
      "[1] \"\\\\Genetic Epidemiology of COPD (COPDGene)\\\\Subject Phenotype\\\\6MinWalk\\\\Distance walked [ft]\\\\\"                        \n",
      "[2] \"\\\\Genetic Epidemiology of COPD (COPDGene)\\\\Subject Phenotype\\\\6MinWalk\\\\Six minute walk: course layout\\\\\"              \n",
      "[3] \"\\\\Genetic Epidemiology of COPD (COPDGene)\\\\Subject Phenotype\\\\6MinWalk\\\\Six minute walk: was your walking limited?\\\\\"  \n",
      "[4] \"\\\\Genetic Epidemiology of COPD (COPDGene)\\\\Subject Phenotype\\\\6MinWalk\\\\Supplemental O2 used during 6-min walk L/min\\\\\"\n",
      "[5] \"\\\\Genetic Epidemiology of COPD (COPDGene)\\\\Subject Phenotype\\\\6MinWalk\\\\Walk symptoms: back pain\\\\\"                    \n"
     ]
    }
   ],
   "source": [
    "print(selected_vars[1:5])"
   ]
  },
  {
   "cell_type": "markdown",
   "metadata": {},
   "source": [
    "Here we use the accession number of COPDGene study to select only the records that do match this strings."
   ]
  },
  {
   "cell_type": "code",
   "execution_count": 141,
   "metadata": {},
   "outputs": [],
   "source": [
    "phs_values = strsplit(consent_dic[[\"categoryValues\"]], \",\") %>% unlist()\n",
    "phs_copdgene = grep(\"phs000179\\\\.*\", phs_values, perl=T, value=T) %>% as.list()\n",
    "# phs_copdgene = do.call(list, list(phs_copdgene))"
   ]
  },
  {
   "cell_type": "markdown",
   "metadata": {},
   "source": [
    "Retrieving the data:"
   ]
  },
  {
   "cell_type": "code",
   "execution_count": 149,
   "metadata": {},
   "outputs": [],
   "source": [
    "my_query = hpds::new.query(resource = resource)"
   ]
  },
  {
   "cell_type": "code",
   "execution_count": 150,
   "metadata": {},
   "outputs": [],
   "source": [
    "hpds::query.filter.add(query = my_query, \n",
    "                      keys = consent_dic[[\"name\"]], \n",
    "                      phs_copdgene)"
   ]
  },
  {
   "cell_type": "code",
   "execution_count": 151,
   "metadata": {},
   "outputs": [
    {
     "name": "stderr",
     "output_type": "stream",
     "text": [
      "Warning message in if (has.key(key, self$data) == TRUE) {:\n",
      "“la condition a une longueur > 1 et seul le premier élément est utilisé”\n",
      "Warning message in if (str_detect(norm_str, \"rs[0-9]+$\")) {:\n",
      "“la condition a une longueur > 1 et seul le premier élément est utilisé”\n",
      "Warning message in if (str_detect(norm_str, \"[0-9]+,[0-9\\\\.]+,.*\")) {:\n",
      "“la condition a une longueur > 1 et seul le premier élément est utilisé”\n"
     ]
    }
   ],
   "source": [
    "hpds::query.select.add(query = my_query, \n",
    "                      keys = selected_vars)\n",
    "facts = hpds::query.run(query = my_query, result.type = \"dataframe\")"
   ]
  },
  {
   "cell_type": "code",
   "execution_count": 152,
   "metadata": {},
   "outputs": [
    {
     "name": "stdout",
     "output_type": "stream",
     "text": [
      "10385 rows, 328 columns"
     ]
    }
   ],
   "source": [
    "cat(paste0(dim(facts)[1], \" rows, \", dim(facts)[2], \" columns\"))"
   ]
  },
  {
   "cell_type": "code",
   "execution_count": 153,
   "metadata": {},
   "outputs": [
    {
     "data": {
      "text/html": [
       "<table>\n",
       "<caption>A data.frame: 6 × 328</caption>\n",
       "<thead>\n",
       "\t<tr><th></th><th scope=col>Patient.ID</th><th scope=col>X.Genetic.Epidemiology.of.COPD..COPDGene..Subject.Phenotype.6MinWalk.Distance.walked..ft..</th><th scope=col>X.Genetic.Epidemiology.of.COPD..COPDGene..Subject.Phenotype.6MinWalk.Six.minute.walk..course.layout.</th><th scope=col>X.Genetic.Epidemiology.of.COPD..COPDGene..Subject.Phenotype.6MinWalk.Six.minute.walk..was.your.walking.limited..</th><th scope=col>X.Genetic.Epidemiology.of.COPD..COPDGene..Subject.Phenotype.6MinWalk.Supplemental.O2.used.during.6.min.walk.L.min.</th><th scope=col>X.Genetic.Epidemiology.of.COPD..COPDGene..Subject.Phenotype.6MinWalk.Walk.symptoms..back.pain.</th><th scope=col>X.Genetic.Epidemiology.of.COPD..COPDGene..Subject.Phenotype.6MinWalk.Walk.symptoms..joint.pain.</th><th scope=col>X.Genetic.Epidemiology.of.COPD..COPDGene..Subject.Phenotype.6MinWalk.Walk.symptoms..leg.discomfort.fatigue.</th><th scope=col>X.Genetic.Epidemiology.of.COPD..COPDGene..Subject.Phenotype.6MinWalk.Walk.symptoms..shortness.of.breath.</th><th scope=col>X.Genetic.Epidemiology.of.COPD..COPDGene..Subject.Phenotype.CT.Acquisition.Parameters.CT.Scanner.CT.scan.final.approval.</th><th scope=col>⋯</th><th scope=col>X.Genetic.Epidemiology.of.COPD..COPDGene..Subject.Phenotype.VIDA.Percent.gas.trap...856.Hu..total.lung.CT.VIDA.</th><th scope=col>X.Genetic.Epidemiology.of.COPD..COPDGene..Subject.Phenotype.VIDA.Pi10.SRWA.CT.VIDA.</th><th scope=col>X.Genetic.Epidemiology.of.COPD..COPDGene..Subject.Phenotype.VIDA.Pi15.SRWA.CT.VIDA.</th><th scope=col>X.Genetic.Epidemiology.of.COPD..COPDGene..Subject.Phenotype.VIDA.TLC.CT.VIDA.</th><th scope=col>X.Genetic.Epidemiology.of.COPD..COPDGene..Subject.Phenotype.VIDA.Upper.Lobe.Lower.Lobe.ratio.CT.VIDA.</th><th scope=col>X.Genetic.Epidemiology.of.COPD..COPDGene..Subject.Phenotype.VIDA.Upper.Lobes.percent.of.total.air.vol.CT.VIDA.</th><th scope=col>X.Genetic.Epidemiology.of.COPD..COPDGene..Subject.Phenotype.VIDA.Wall.area.percent..segmental.CT.VIDA.</th><th scope=col>X.Genetic.Epidemiology.of.COPD..COPDGene..Subject.Phenotype.VIDA.Wall.area.percent..sub.segmental.CT.VIDA.</th><th scope=col>X.Genetic.Epidemiology.of.COPD..COPDGene..Subjects.Affection.status.</th><th scope=col>X._Consents.Short.Study.Accession.with.Consent.Code.</th></tr>\n",
       "\t<tr><th></th><th scope=col>&lt;int&gt;</th><th scope=col>&lt;dbl&gt;</th><th scope=col>&lt;fct&gt;</th><th scope=col>&lt;fct&gt;</th><th scope=col>&lt;dbl&gt;</th><th scope=col>&lt;fct&gt;</th><th scope=col>&lt;fct&gt;</th><th scope=col>&lt;fct&gt;</th><th scope=col>&lt;fct&gt;</th><th scope=col>&lt;fct&gt;</th><th scope=col>⋯</th><th scope=col>&lt;dbl&gt;</th><th scope=col>&lt;dbl&gt;</th><th scope=col>&lt;dbl&gt;</th><th scope=col>&lt;dbl&gt;</th><th scope=col>&lt;dbl&gt;</th><th scope=col>&lt;dbl&gt;</th><th scope=col>&lt;dbl&gt;</th><th scope=col>&lt;dbl&gt;</th><th scope=col>&lt;fct&gt;</th><th scope=col>&lt;fct&gt;</th></tr>\n",
       "</thead>\n",
       "<tbody>\n",
       "\t<tr><th scope=row>10380</th><td> 45783</td><td>1466</td><td>Straight</td><td>No </td><td>  0</td><td>                           </td><td>  </td><td>                           </td><td>  </td><td>Yes</td><td>⋯</td><td> 4.8727</td><td>3.841</td><td>5.339</td><td>3.29</td><td>  NaN</td><td>45.80</td><td>63.8850</td><td>    NaN</td><td>Control</td><td>phs000179.c1</td></tr>\n",
       "\t<tr><th scope=row>10381</th><td> 45784</td><td> 865</td><td>Straight</td><td>Yes</td><td>  4</td><td>Checked (multiple-response)</td><td>No</td><td>Checked (multiple-response)</td><td>No</td><td>Yes</td><td>⋯</td><td>11.0298</td><td>3.669</td><td>5.065</td><td>3.77</td><td>1.359</td><td>44.19</td><td>63.7417</td><td>64.3433</td><td>Other  </td><td>phs000179.c1</td></tr>\n",
       "\t<tr><th scope=row>10382</th><td> 45785</td><td>1482</td><td>Circular</td><td>No </td><td>  0</td><td>                           </td><td>  </td><td>                           </td><td>  </td><td>Yes</td><td>⋯</td><td> 3.7366</td><td>3.679</td><td>5.136</td><td>4.02</td><td>  NaN</td><td>50.00</td><td>61.0133</td><td>64.3425</td><td>Control</td><td>phs000179.c1</td></tr>\n",
       "\t<tr><th scope=row>10383</th><td> 45786</td><td> NaN</td><td>Straight</td><td>No </td><td>  6</td><td>                           </td><td>  </td><td>                           </td><td>  </td><td>Yes</td><td>⋯</td><td>35.9230</td><td>3.611</td><td>5.193</td><td>7.77</td><td>1.241</td><td>42.92</td><td>61.0533</td><td>    NaN</td><td>Case   </td><td>phs000179.c1</td></tr>\n",
       "\t<tr><th scope=row>10384</th><td>122723</td><td> NaN</td><td>        </td><td>   </td><td>NaN</td><td>                           </td><td>  </td><td>                           </td><td>  </td><td>   </td><td>⋯</td><td>    NaN</td><td>  NaN</td><td>  NaN</td><td> NaN</td><td>  NaN</td><td>  NaN</td><td>    NaN</td><td>    NaN</td><td>       </td><td>phs000179.c1</td></tr>\n",
       "\t<tr><th scope=row>10385</th><td>507518</td><td> NaN</td><td>        </td><td>   </td><td>NaN</td><td>                           </td><td>  </td><td>                           </td><td>  </td><td>   </td><td>⋯</td><td>    NaN</td><td>  NaN</td><td>  NaN</td><td> NaN</td><td>  NaN</td><td>  NaN</td><td>    NaN</td><td>    NaN</td><td>       </td><td>phs000179.c1</td></tr>\n",
       "</tbody>\n",
       "</table>\n"
      ],
      "text/latex": [
       "A data.frame: 6 × 328\n",
       "\\begin{tabular}{r|llllllllllllllllllllllllllllllllllllllllllllllllllllllllllllllllllllllllllllllllllllllllllllllllllllllllllllllllllllllllllllllllllllllllllllllllllllllllllllllllllllllllllllllllllllllllllllllllllllllllllllllllllllllllllllllllllllllllllllllllllllllllllllllllllllllllllllllllllllllllllllllllllllllllllllllllllllllllllllllllllllllll}\n",
       "  & Patient.ID & X.Genetic.Epidemiology.of.COPD..COPDGene..Subject.Phenotype.6MinWalk.Distance.walked..ft.. & X.Genetic.Epidemiology.of.COPD..COPDGene..Subject.Phenotype.6MinWalk.Six.minute.walk..course.layout. & X.Genetic.Epidemiology.of.COPD..COPDGene..Subject.Phenotype.6MinWalk.Six.minute.walk..was.your.walking.limited.. & X.Genetic.Epidemiology.of.COPD..COPDGene..Subject.Phenotype.6MinWalk.Supplemental.O2.used.during.6.min.walk.L.min. & X.Genetic.Epidemiology.of.COPD..COPDGene..Subject.Phenotype.6MinWalk.Walk.symptoms..back.pain. & X.Genetic.Epidemiology.of.COPD..COPDGene..Subject.Phenotype.6MinWalk.Walk.symptoms..joint.pain. & X.Genetic.Epidemiology.of.COPD..COPDGene..Subject.Phenotype.6MinWalk.Walk.symptoms..leg.discomfort.fatigue. & X.Genetic.Epidemiology.of.COPD..COPDGene..Subject.Phenotype.6MinWalk.Walk.symptoms..shortness.of.breath. & X.Genetic.Epidemiology.of.COPD..COPDGene..Subject.Phenotype.CT.Acquisition.Parameters.CT.Scanner.CT.scan.final.approval. & X.Genetic.Epidemiology.of.COPD..COPDGene..Subject.Phenotype.CT.Acquisition.Parameters.CT.Scanner.CT.scanner. & X.Genetic.Epidemiology.of.COPD..COPDGene..Subject.Phenotype.CT.Acquisition.Parameters.CT.Scanner.Siemens.sensation.64.flag. & X.Genetic.Epidemiology.of.COPD..COPDGene..Subject.Phenotype.CT.Acquisition.Parameters.CT.Slicer.Exp.Mean.Atten...Insp.Mean.Atten.ratio.CT.Slicer. & X.Genetic.Epidemiology.of.COPD..COPDGene..Subject.Phenotype.CT.Acquisition.Parameters.CT.Slicer.FRC.CT.Slicer. & X.Genetic.Epidemiology.of.COPD..COPDGene..Subject.Phenotype.CT.Acquisition.Parameters.CT.Slicer.HU.15th.percentile.Exp.Total.lung.CT.Slicer. & X.Genetic.Epidemiology.of.COPD..COPDGene..Subject.Phenotype.CT.Acquisition.Parameters.CT.Slicer.Hu.15th.percentile.Insp.CT.Slicer. & X.Genetic.Epidemiology.of.COPD..COPDGene..Subject.Phenotype.CT.Acquisition.Parameters.CT.Slicer.Intensity.Mean.Exp.Total.lung.CT.Slicer. & X.Genetic.Epidemiology.of.COPD..COPDGene..Subject.Phenotype.CT.Acquisition.Parameters.CT.Slicer.Intensity.Mean.Insp.Total.lung.CT.Slicer. & X.Genetic.Epidemiology.of.COPD..COPDGene..Subject.Phenotype.CT.Acquisition.Parameters.CT.Slicer.Percent.Emph.Lower.Third.CT.Slicer. & X.Genetic.Epidemiology.of.COPD..COPDGene..Subject.Phenotype.CT.Acquisition.Parameters.CT.Slicer.Percent.Emph.Upper.Third.CT.Slicer. & X.Genetic.Epidemiology.of.COPD..COPDGene..Subject.Phenotype.CT.Acquisition.Parameters.CT.Slicer.Percent.emphysema.total.lung..CT.Slicer. & X.Genetic.Epidemiology.of.COPD..COPDGene..Subject.Phenotype.CT.Acquisition.Parameters.CT.Slicer.Percent.gas.trapping.total.lung..CT.Slicer. & X.Genetic.Epidemiology.of.COPD..COPDGene..Subject.Phenotype.CT.Acquisition.Parameters.CT.Slicer.TLC.CT.Slicer. & X.Genetic.Epidemiology.of.COPD..COPDGene..Subject.Phenotype.CT.Acquisition.Parameters.CT.Slicer.Upper.Third.Lower.Third.ratio.CT.Slicer. & X.Genetic.Epidemiology.of.COPD..COPDGene..Subject.Phenotype.CT.Assessment.Scoresheet.High.Concerns.QA\\_CalciumCalPad. & X.Genetic.Epidemiology.of.COPD..COPDGene..Subject.Phenotype.CT.Based.FRC.TLC.Ratio.CT.based.FRC.TLC.ratio. & X.Genetic.Epidemiology.of.COPD..COPDGene..Subject.Phenotype.Demographics.and.Physical.Characteristics.Demographics.Gender. & X.Genetic.Epidemiology.of.COPD..COPDGene..Subject.Phenotype.Demographics.and.Physical.Characteristics.Oxygen.Saturation.and.Therapy.Does.subject.use.supplemental.02.therapy. & X.Genetic.Epidemiology.of.COPD..COPDGene..Subject.Phenotype.Demographics.and.Physical.Characteristics.Oxygen.Saturation.and.Therapy.How.long.have.they.used.supplemental.02..years.. & X.Genetic.Epidemiology.of.COPD..COPDGene..Subject.Phenotype.Demographics.and.Physical.Characteristics.Oxygen.Saturation.and.Therapy.On.typical.24.hour.day.how.many.hours.supplemental.02.used..hours.. & X.Genetic.Epidemiology.of.COPD..COPDGene..Subject.Phenotype.Demographics.and.Physical.Characteristics.Oxygen.Saturation.and.Therapy.Oxygen.use..at.rest. & X.Genetic.Epidemiology.of.COPD..COPDGene..Subject.Phenotype.Demographics.and.Physical.Characteristics.Oxygen.Saturation.and.Therapy.Oxygen.use..exercise. & X.Genetic.Epidemiology.of.COPD..COPDGene..Subject.Phenotype.Demographics.and.Physical.Characteristics.Oxygen.Saturation.and.Therapy.Oxygen.use..sleep. & X.Genetic.Epidemiology.of.COPD..COPDGene..Subject.Phenotype.Demographics.and.Physical.Characteristics.Oxygen.Saturation.and.Therapy.Resting.SaO2... & X.Genetic.Epidemiology.of.COPD..COPDGene..Subject.Phenotype.Demographics.and.Physical.Characteristics.Physical.Characteristics.BMI. & X.Genetic.Epidemiology.of.COPD..COPDGene..Subject.Phenotype.Demographics.and.Physical.Characteristics.Physical.Characteristics.Diastolic.blood.pressure..mmHg.. & X.Genetic.Epidemiology.of.COPD..COPDGene..Subject.Phenotype.Demographics.and.Physical.Characteristics.Physical.Characteristics.Heart.rate..bpm.. & X.Genetic.Epidemiology.of.COPD..COPDGene..Subject.Phenotype.Demographics.and.Physical.Characteristics.Physical.Characteristics.Height..cm.. & X.Genetic.Epidemiology.of.COPD..COPDGene..Subject.Phenotype.Demographics.and.Physical.Characteristics.Physical.Characteristics.Systolic.blood.pressure..mmHg.. & X.Genetic.Epidemiology.of.COPD..COPDGene..Subject.Phenotype.Demographics.and.Physical.Characteristics.Physical.Characteristics.Weight..kg.. & X.Genetic.Epidemiology.of.COPD..COPDGene..Subject.Phenotype.Eligibility.Form.Race. & X.Genetic.Epidemiology.of.COPD..COPDGene..Subject.Phenotype.Eligibility.Form.Your.ethnic.background. & X.Genetic.Epidemiology.of.COPD..COPDGene..Subject.Phenotype.Longitudinal.Analysis.Year.of.visit..to.use.for.longitudinal.analysis. & X.Genetic.Epidemiology.of.COPD..COPDGene..Subject.Phenotype.Medical.History.A1AD.A1AD..do.not.know.phenotype. & X.Genetic.Epidemiology.of.COPD..COPDGene..Subject.Phenotype.Medical.History.Back.Pain.Do.you.have.lower.back.buttock.or.radiating.leg.pain.. & X.Genetic.Epidemiology.of.COPD..COPDGene..Subject.Phenotype.Medical.History.Cancer.Bladder.cancer. & X.Genetic.Epidemiology.of.COPD..COPDGene..Subject.Phenotype.Medical.History.Cancer.Breast.cancer. & X.Genetic.Epidemiology.of.COPD..COPDGene..Subject.Phenotype.Medical.History.Cancer.Colon.cancer. & X.Genetic.Epidemiology.of.COPD..COPDGene..Subject.Phenotype.Medical.History.Cancer.Lung.cancer. & X.Genetic.Epidemiology.of.COPD..COPDGene..Subject.Phenotype.Medical.History.Cancer.Prostate.cancer. & X.Genetic.Epidemiology.of.COPD..COPDGene..Subject.Phenotype.Medical.History.Cardio.Vascular.Diseases.Angina. & X.Genetic.Epidemiology.of.COPD..COPDGene..Subject.Phenotype.Medical.History.Cardio.Vascular.Diseases.Angioplasty.or.cardiac.stents.placed. & X.Genetic.Epidemiology.of.COPD..COPDGene..Subject.Phenotype.Medical.History.Cardio.Vascular.Diseases.Blood.clots..in.legs.or.lungs.. & X.Genetic.Epidemiology.of.COPD..COPDGene..Subject.Phenotype.Medical.History.Cardio.Vascular.Diseases.Congestive.heart.failure. & X.Genetic.Epidemiology.of.COPD..COPDGene..Subject.Phenotype.Medical.History.Cardio.Vascular.Diseases.Coronary.artery.bypass.surgery..CABG.. & X.Genetic.Epidemiology.of.COPD..COPDGene..Subject.Phenotype.Medical.History.Cardio.Vascular.Diseases.Coronary.artery.disease. & X.Genetic.Epidemiology.of.COPD..COPDGene..Subject.Phenotype.Medical.History.Cardio.Vascular.Diseases.Heart.attack..MI.. & X.Genetic.Epidemiology.of.COPD..COPDGene..Subject.Phenotype.Medical.History.Cardio.Vascular.Diseases.High.blood.pressure. & X.Genetic.Epidemiology.of.COPD..COPDGene..Subject.Phenotype.Medical.History.Cardio.Vascular.Diseases.High.cholesterol. & X.Genetic.Epidemiology.of.COPD..COPDGene..Subject.Phenotype.Medical.History.Cardio.Vascular.Diseases.Peripheral.vascular.disease. & X.Genetic.Epidemiology.of.COPD..COPDGene..Subject.Phenotype.Medical.History.Cardio.Vascular.Diseases.Stroke. & X.Genetic.Epidemiology.of.COPD..COPDGene..Subject.Phenotype.Medical.History.Cardio.Vascular.Diseases.TIA..transient.ischemic.attack.. & X.Genetic.Epidemiology.of.COPD..COPDGene..Subject.Phenotype.Medical.History.Diabetes.Diabetes. & X.Genetic.Epidemiology.of.COPD..COPDGene..Subject.Phenotype.Medical.History.Digestive.System.Diseases.Gastroesophageal.reflux. & X.Genetic.Epidemiology.of.COPD..COPDGene..Subject.Phenotype.Medical.History.Digestive.System.Diseases.Have.you.been.tested.for.Alpha1.antitrypsin.deficiency. & X.Genetic.Epidemiology.of.COPD..COPDGene..Subject.Phenotype.Medical.History.Digestive.System.Diseases.Stomach.ulcers. & X.Genetic.Epidemiology.of.COPD..COPDGene..Subject.Phenotype.Medical.History.Eye.Diseases.Macular.degeneration. & X.Genetic.Epidemiology.of.COPD..COPDGene..Subject.Phenotype.Medical.History.General.Health.Health.status. & X.Genetic.Epidemiology.of.COPD..COPDGene..Subject.Phenotype.Medical.History.Musculoskeletal.Diseases.Chronic.stiffness.pain.in.back. & X.Genetic.Epidemiology.of.COPD..COPDGene..Subject.Phenotype.Medical.History.Musculoskeletal.Diseases.Osteoarthritis. & X.Genetic.Epidemiology.of.COPD..COPDGene..Subject.Phenotype.Medical.History.Musculoskeletal.Diseases.Osteoporosis..thin.bones.. & X.Genetic.Epidemiology.of.COPD..COPDGene..Subject.Phenotype.Medical.History.Musculoskeletal.Diseases.Rheumatoid.arthritis. & X.Genetic.Epidemiology.of.COPD..COPDGene..Subject.Phenotype.Medical.History.Musculoskeletal.Diseases.Stiffness.pain.in.joints.bones.limit.ability.to.walk. & X.Genetic.Epidemiology.of.COPD..COPDGene..Subject.Phenotype.Medical.History.Painful.Joint.Type.Do.you.have.any.joints.that.are.painful.stiff.or.achy.. & X.Genetic.Epidemiology.of.COPD..COPDGene..Subject.Phenotype.Medical.History.Painful.Joint.Type.Painful.joint.type..elbow. & X.Genetic.Epidemiology.of.COPD..COPDGene..Subject.Phenotype.Medical.History.Painful.Joint.Type.Painful.joint.type..foot.or.ankle. & X.Genetic.Epidemiology.of.COPD..COPDGene..Subject.Phenotype.Medical.History.Painful.Joint.Type.Painful.joint.type..hip.groin.thigh. & X.Genetic.Epidemiology.of.COPD..COPDGene..Subject.Phenotype.Medical.History.Painful.Joint.Type.Painful.joint.type..knee. & X.Genetic.Epidemiology.of.COPD..COPDGene..Subject.Phenotype.Medical.History.Painful.Joint.Type.Painful.joint.type..shoulder. & X.Genetic.Epidemiology.of.COPD..COPDGene..Subject.Phenotype.Medical.History.Painful.Joint.Type.Painful.joint.type..wrist.or.hand. & X.Genetic.Epidemiology.of.COPD..COPDGene..Subject.Phenotype.Medical.History.Respiratory.Tract.Diseases.Pneumothorax..collapsed.lung.. & X.Genetic.Epidemiology.of.COPD..COPDGene..Subject.Phenotype.Medical.History.Smoking.Do.you.find.it.hard.to.not.smoke.in.forbidden.places. & X.Genetic.Epidemiology.of.COPD..COPDGene..Subject.Phenotype.Medical.History.Smoking.Do.you.now.or.did.you.smoke.menthol.cigarettes. & X.Genetic.Epidemiology.of.COPD..COPDGene..Subject.Phenotype.Medical.History.Smoking.How.soon.after.waking.do.you.smoke.first.cigarette. & X.Genetic.Epidemiology.of.COPD..COPDGene..Subject.Phenotype.Medical.History.Smoking.Smoke.more.during.first.2.hours.of.day.than.rest.of.day. & X.Genetic.Epidemiology.of.COPD..COPDGene..Subject.Phenotype.Medical.History.Smoking.Smoke.when.so.ill.you.are.in.bed.most.of.day. & X.Genetic.Epidemiology.of.COPD..COPDGene..Subject.Phenotype.Medical.History.Smoking.Which.cigarette.would.you.hate.most.to.give.up. & X.Genetic.Epidemiology.of.COPD..COPDGene..Subject.Phenotype.Medical.History.Walking.Limits.What.limits.your.walking.most. & X.Genetic.Epidemiology.of.COPD..COPDGene..Subject.Phenotype.Medical.History.Wounds.and.Injuries.Compression.fractures..in.your.back.. & X.Genetic.Epidemiology.of.COPD..COPDGene..Subject.Phenotype.Medical.History.Wounds.and.Injuries.Hip.fracture. & X.Genetic.Epidemiology.of.COPD..COPDGene..Subject.Phenotype.Medication.History.Treatment.Combination.inhaled.corticosteroid.and.beta.agonist. & X.Genetic.Epidemiology.of.COPD..COPDGene..Subject.Phenotype.Medication.History.Treatment.Combination.short.acting.medication. & X.Genetic.Epidemiology.of.COPD..COPDGene..Subject.Phenotype.Medication.History.Treatment.Currently.do.you.use.medications.to.treat.breathing.problem. & X.Genetic.Epidemiology.of.COPD..COPDGene..Subject.Phenotype.Medication.History.Treatment.Inhaled.corticosteroids. & X.Genetic.Epidemiology.of.COPD..COPDGene..Subject.Phenotype.Medication.History.Treatment.Inhaled.short.acting.beta.agonist. & X.Genetic.Epidemiology.of.COPD..COPDGene..Subject.Phenotype.Medication.History.Treatment.Ipratropium.bromide. & X.Genetic.Epidemiology.of.COPD..COPDGene..Subject.Phenotype.Medication.History.Treatment.Long.acting.beta.agonist. & X.Genetic.Epidemiology.of.COPD..COPDGene..Subject.Phenotype.Medication.History.Treatment.Nebulizer.for.an.inhaled.medication. & X.Genetic.Epidemiology.of.COPD..COPDGene..Subject.Phenotype.Medication.History.Treatment.Oral.corticosteroids. & X.Genetic.Epidemiology.of.COPD..COPDGene..Subject.Phenotype.Medication.History.Treatment.Theophylline. & X.Genetic.Epidemiology.of.COPD..COPDGene..Subject.Phenotype.Medication.History.Treatment.Tiotroprium.bromide. & X.Genetic.Epidemiology.of.COPD..COPDGene..Subject.Phenotype.New.Gold.Classification.New.Gold.Classification..using.SGRQ.for.QOL. & X.Genetic.Epidemiology.of.COPD..COPDGene..Subject.Phenotype.Phase.of.COPDGene.Study.Phase.of.COPDGene.study..baseline..phase.2. & X.Genetic.Epidemiology.of.COPD..COPDGene..Subject.Phenotype.Quantitative.Analysis.CT.reconstruction.kernel.used.for.quantitative.analysis. & X.Genetic.Epidemiology.of.COPD..COPDGene..Subject.Phenotype.Respiratory.Disease.COPD.Exacerbations.in.the.Last.Year.Lung.Problems.Been.to.emergency.room.or.hospitalized.for.lung.problems. & X.Genetic.Epidemiology.of.COPD..COPDGene..Subject.Phenotype.Respiratory.Disease.COPD.Exacerbations.in.the.Last.Year.Lung.Problems.How.many.times. & X.Genetic.Epidemiology.of.COPD..COPDGene..Subject.Phenotype.Respiratory.Disease.COPD.Exacerbations.in.the.Last.Year.Lung.Problems.Number.of.COPD.exacerbations. & X.Genetic.Epidemiology.of.COPD..COPDGene..Subject.Phenotype.Respiratory.Disease.COPD.Exacerbations.in.the.Last.Year.Lung.Problems.Other.primary.disease.so.subject.excluded.from.COPD.disease.analysis..ILD..Bronchiectasis.. & X.Genetic.Epidemiology.of.COPD..COPDGene..Subject.Phenotype.Respiratory.Disease.COPD.Exacerbations.in.the.Last.Year.Treatment.of.Chest.Illness.Have.you.been.to.treated.with.antibiotics.for.chest.illness. & X.Genetic.Epidemiology.of.COPD..COPDGene..Subject.Phenotype.Respiratory.Disease.COPD.Exacerbations.in.the.Last.Year.Treatment.of.Chest.Illness.How.many.times.treated.with.antibiotics.for.chest.illness. & X.Genetic.Epidemiology.of.COPD..COPDGene..Subject.Phenotype.Respiratory.Disease.Educational.and.Occupational.History.Exposure.to.Gas.Smoke.Chemicals.Are.you.currently.exposed.to.gas.smoke.chemicals.fumes.. & X.Genetic.Epidemiology.of.COPD..COPDGene..Subject.Phenotype.Respiratory.Disease.Educational.and.Occupational.History.Job.with.Dirty.Environment.Are.you.currently.working.in.a.dusty.job.. & X.Genetic.Epidemiology.of.COPD..COPDGene..Subject.Phenotype.Respiratory.Disease.Educational.and.Occupational.History.Job.with.Dirty.Environment.Exposed.to.gas.smoke.chemicals.other.fumes.at.work.. & X.Genetic.Epidemiology.of.COPD..COPDGene..Subject.Phenotype.Respiratory.Disease.Educational.and.Occupational.History.Job.with.Dirty.Environment.Have.you.ever.worked.for.a.year.or.more.in.dusty.job.. & X.Genetic.Epidemiology.of.COPD..COPDGene..Subject.Phenotype.Respiratory.Disease.Educational.and.Occupational.History.Work..Education.Are.you.working.now.. & X.Genetic.Epidemiology.of.COPD..COPDGene..Subject.Phenotype.Respiratory.Disease.Educational.and.Occupational.History.Work..Education.Highest.degree.or.level.of.school.completed. & X.Genetic.Epidemiology.of.COPD..COPDGene..Subject.Phenotype.Respiratory.Disease.Educational.and.Occupational.History.Work..Education.Why.did.you.stop.working.. & X.Genetic.Epidemiology.of.COPD..COPDGene..Subject.Phenotype.Respiratory.Disease.Environmental.Exposures.Cigar.Smoking.Age.when.completely.stopped.smoking.cigars..years.old.. & X.Genetic.Epidemiology.of.COPD..COPDGene..Subject.Phenotype.Respiratory.Disease.Environmental.Exposures.Cigar.Smoking.Age.when.started.to.smoke.cigars.regularly..years.old.. & X.Genetic.Epidemiology.of.COPD..COPDGene..Subject.Phenotype.Respiratory.Disease.Environmental.Exposures.Cigar.Smoking.Do.you.now.smoke.cigars..as.of.one.month.ago.. & X.Genetic.Epidemiology.of.COPD..COPDGene..Subject.Phenotype.Respiratory.Disease.Environmental.Exposures.Cigar.Smoking.Have.you.ever.smoked.cigars.regularly.. & X.Genetic.Epidemiology.of.COPD..COPDGene..Subject.Phenotype.Respiratory.Disease.Environmental.Exposures.Cigar.Smoking.How.many.cigars.do.you.smoke.per.day.now...Cigars.per.day.. & X.Genetic.Epidemiology.of.COPD..COPDGene..Subject.Phenotype.Respiratory.Disease.Environmental.Exposures.Cigar.Smoking.On.average.how.many.cigars.did.you.smoke.per.week..cigars.per.week.. & X.Genetic.Epidemiology.of.COPD..COPDGene..Subject.Phenotype.Respiratory.Disease.Environmental.Exposures.Cigarette.Smoking.Average.for.entire.time.how.many.cigarettes.smoked.per.day..cigarettes.day.. & X.Genetic.Epidemiology.of.COPD..COPDGene..Subject.Phenotype.Respiratory.Disease.Environmental.Exposures.Cigarette.Smoking.Cigarettes.smoked.past.24.hours...does.not.apply. & X.Genetic.Epidemiology.of.COPD..COPDGene..Subject.Phenotype.Respiratory.Disease.Environmental.Exposures.Cigarette.Smoking.Do.you.now.smoke.cigarettes..as.of.one.month.ago... & X.Genetic.Epidemiology.of.COPD..COPDGene..Subject.Phenotype.Respiratory.Disease.Environmental.Exposures.Cigarette.Smoking.Duration.of.smoking..yrs.. & X.Genetic.Epidemiology.of.COPD..COPDGene..Subject.Phenotype.Respiratory.Disease.Environmental.Exposures.Cigarette.Smoking.Have.you.ever.smoked.cigarettes.. & X.Genetic.Epidemiology.of.COPD..COPDGene..Subject.Phenotype.Respiratory.Disease.Environmental.Exposures.Cigarette.Smoking.How.many.cigarettes.do.you.smoke.per.day.now...Cigarettes.day.. & X.Genetic.Epidemiology.of.COPD..COPDGene..Subject.Phenotype.Respiratory.Disease.Environmental.Exposures.Cigarette.Smoking.How.many.cigarettes.have.you.smoked.in.the.past.2.hours..cigarettes.. & X.Genetic.Epidemiology.of.COPD..COPDGene..Subject.Phenotype.Respiratory.Disease.Environmental.Exposures.Cigarette.Smoking.How.many.cigarettes.have.you.smoked.in.the.past.24.hours..cigarettes.. & X.Genetic.Epidemiology.of.COPD..COPDGene..Subject.Phenotype.Respiratory.Disease.Environmental.Exposures.Cigarette.Smoking.How.many.cigarettes.have.you.smoked.in.the.past.half.hour..cigarettes.. & X.Genetic.Epidemiology.of.COPD..COPDGene..Subject.Phenotype.Respiratory.Disease.Environmental.Exposures.Cigarette.Smoking.How.old.were.you.when.you.completely.stopped.smoking...Years.old.. & X.Genetic.Epidemiology.of.COPD..COPDGene..Subject.Phenotype.Respiratory.Disease.Environmental.Exposures.Cigarette.Smoking.How.old.were.you.when.you.first.started.cigarette.smoking...Years.old.. & X.Genetic.Epidemiology.of.COPD..COPDGene..Subject.Phenotype.Respiratory.Disease.Environmental.Exposures.Cigarette.Smoking.Pack.years..ATS.. & X.Genetic.Epidemiology.of.COPD..COPDGene..Subject.Phenotype.Respiratory.Disease.Environmental.Exposures.Cigarette.Smoking.Years.since.quit.smoking. & X.Genetic.Epidemiology.of.COPD..COPDGene..Subject.Phenotype.Respiratory.Disease.Environmental.Exposures.Fagerstrom.Index.Fagerstrom.Index. & X.Genetic.Epidemiology.of.COPD..COPDGene..Subject.Phenotype.Respiratory.Disease.Environmental.Exposures.Pipe.Smoking.Age.when.completely.stopped.smoking.pipe..years.old.. & X.Genetic.Epidemiology.of.COPD..COPDGene..Subject.Phenotype.Respiratory.Disease.Environmental.Exposures.Pipe.Smoking.Age.when.started.to.smoke.pipe.regularly..years.old.. & X.Genetic.Epidemiology.of.COPD..COPDGene..Subject.Phenotype.Respiratory.Disease.Environmental.Exposures.Pipe.Smoking.Do.you.now.smoke.a.pipe..as.of.one.month.ago.. & X.Genetic.Epidemiology.of.COPD..COPDGene..Subject.Phenotype.Respiratory.Disease.Environmental.Exposures.Pipe.Smoking.Have.you.ever.smoked.a.pipe.regularly.. & X.Genetic.Epidemiology.of.COPD..COPDGene..Subject.Phenotype.Respiratory.Disease.Environmental.Exposures.Pipe.Smoking.How.much.pipe.tobacco.do.you.smoke.per.day.now...Oz.per.day.. & X.Genetic.Epidemiology.of.COPD..COPDGene..Subject.Phenotype.Respiratory.Disease.Environmental.Exposures.Pipe.Smoking.On.average.ounces.of.tobacco.smoked.per.week..oz.per.week.. & X.Genetic.Epidemiology.of.COPD..COPDGene..Subject.Phenotype.Respiratory.Disease.Environmental.Exposures.Second.hand.Smoke.Exposure.As.a.child.years.lived.with.someone.who.smoked..years.. & X.Genetic.Epidemiology.of.COPD..COPDGene..Subject.Phenotype.Respiratory.Disease.Environmental.Exposures.Second.hand.Smoke.Exposure.Did.your.mother.smoke.cigarettes.when.she.was.pregnant. & X.Genetic.Epidemiology.of.COPD..COPDGene..Subject.Phenotype.Respiratory.Disease.Environmental.Exposures.Second.hand.Smoke.Exposure.How.many.years.exposed.to.smoke.at.work..years.. & X.Genetic.Epidemiology.of.COPD..COPDGene..Subject.Phenotype.Respiratory.Disease.Environmental.Exposures.Second.hand.Smoke.Exposure.Since.age.18.years.lived.with.someone.who.smoked..years.. & X.Genetic.Epidemiology.of.COPD..COPDGene..Subject.Phenotype.Respiratory.Disease.Family.History.Asthma..Father.or.Mother.Father..asthma. & X.Genetic.Epidemiology.of.COPD..COPDGene..Subject.Phenotype.Respiratory.Disease.Family.History.Asthma..Father.or.Mother.Mother..asthma. & X.Genetic.Epidemiology.of.COPD..COPDGene..Subject.Phenotype.Respiratory.Disease.Family.History.COPD..Father..Mother.Father..COPD. & X.Genetic.Epidemiology.of.COPD..COPDGene..Subject.Phenotype.Respiratory.Disease.Family.History.COPD..Father..Mother.Mother..COPD. & X.Genetic.Epidemiology.of.COPD..COPDGene..Subject.Phenotype.Respiratory.Disease.Family.History.Chronic.Bronchitis..Father.or.Mother.Father..chronic.bronchitis. & X.Genetic.Epidemiology.of.COPD..COPDGene..Subject.Phenotype.Respiratory.Disease.Family.History.Chronic.Bronchitis..Father.or.Mother.Mother..chronic.bronchitis. & X.Genetic.Epidemiology.of.COPD..COPDGene..Subject.Phenotype.Respiratory.Disease.Family.History.Emphysema..Father..Mother.Father..emphysema. & X.Genetic.Epidemiology.of.COPD..COPDGene..Subject.Phenotype.Respiratory.Disease.Family.History.Emphysema..Father..Mother.Mother..emphysema. & X.Genetic.Epidemiology.of.COPD..COPDGene..Subject.Phenotype.Respiratory.Disease.Family.History.Lung.Cancer..Father..Mother.Father..lung.cancer. & X.Genetic.Epidemiology.of.COPD..COPDGene..Subject.Phenotype.Respiratory.Disease.Family.History.Lung.Cancer..Father..Mother.Mother..lung.cancer. & X.Genetic.Epidemiology.of.COPD..COPDGene..Subject.Phenotype.Respiratory.Disease.Family.History.Smoker..Father..Mother.Was.your.natural.father.a.cigarette.smoker.. & X.Genetic.Epidemiology.of.COPD..COPDGene..Subject.Phenotype.Respiratory.Disease.Family.History.Smoker..Father..Mother.Was.your.natural.mother.a.cigarette.smoker.. & X.Genetic.Epidemiology.of.COPD..COPDGene..Subject.Phenotype.Respiratory.Disease.Respiratory.Conditions.ATS.ERS.Classification.ATS.ERS.classification. & X.Genetic.Epidemiology.of.COPD..COPDGene..Subject.Phenotype.Respiratory.Disease.Respiratory.Conditions.Asthma.Asthma..asthma.as.a.child..age.not.known. & X.Genetic.Epidemiology.of.COPD..COPDGene..Subject.Phenotype.Respiratory.Disease.Respiratory.Conditions.Asthma.Asthma..asthma.stopped.as.a.child..age.not.known. & X.Genetic.Epidemiology.of.COPD..COPDGene..Subject.Phenotype.Respiratory.Disease.Respiratory.Conditions.Asthma.Asthma..at.about.what.age.did.asthma.start. & X.Genetic.Epidemiology.of.COPD..COPDGene..Subject.Phenotype.Respiratory.Disease.Respiratory.Conditions.Asthma.Asthma..diagnosed.by.doctor.or.other.health.professional. & X.Genetic.Epidemiology.of.COPD..COPDGene..Subject.Phenotype.Respiratory.Disease.Respiratory.Conditions.Asthma.Asthma..do.you.still.have.asthma. & X.Genetic.Epidemiology.of.COPD..COPDGene..Subject.Phenotype.Respiratory.Disease.Respiratory.Conditions.Asthma.Asthma..have.you.ever.had.asthma. & X.Genetic.Epidemiology.of.COPD..COPDGene..Subject.Phenotype.Respiratory.Disease.Respiratory.Conditions.Asthma.Asthma..if.you.no.longer.have.asthma.at.what.age.did.it.stop. & X.Genetic.Epidemiology.of.COPD..COPDGene..Subject.Phenotype.Respiratory.Disease.Respiratory.Conditions.Asthma.Asthma..received.medical.treatment.or.used.medications.inhaler. & X.Genetic.Epidemiology.of.COPD..COPDGene..Subject.Phenotype.Respiratory.Disease.Respiratory.Conditions.BODE.Index.BODE.index. & X.Genetic.Epidemiology.of.COPD..COPDGene..Subject.Phenotype.Respiratory.Disease.Respiratory.Conditions.Bronchitis.Bronchitis..at.about.what.age.did.you.first.have.bronchitis. & X.Genetic.Epidemiology.of.COPD..COPDGene..Subject.Phenotype.Respiratory.Disease.Respiratory.Conditions.Bronchitis.Bronchitis..bronchitis.as.a.child..age.not.known. & X.Genetic.Epidemiology.of.COPD..COPDGene..Subject.Phenotype.Respiratory.Disease.Respiratory.Conditions.Bronchitis.Bronchitis..diagnosed.by.doctor.or.other.health.professional. & X.Genetic.Epidemiology.of.COPD..COPDGene..Subject.Phenotype.Respiratory.Disease.Respiratory.Conditions.Bronchitis.Bronchitis..have.you.ever.had.an.attack.of.bronchitis. & X.Genetic.Epidemiology.of.COPD..COPDGene..Subject.Phenotype.Respiratory.Disease.Respiratory.Conditions.Bronchitis.Bronchitis..how.many.times.have.you.had.bronchitis. & X.Genetic.Epidemiology.of.COPD..COPDGene..Subject.Phenotype.Respiratory.Disease.Respiratory.Conditions.COPD.COPD..at.about.what.age.did.COPD.start. & X.Genetic.Epidemiology.of.COPD..COPDGene..Subject.Phenotype.Respiratory.Disease.Respiratory.Conditions.COPD.COPD..diagnosed.by.doctor.or.other.health.professional. & X.Genetic.Epidemiology.of.COPD..COPDGene..Subject.Phenotype.Respiratory.Disease.Respiratory.Conditions.COPD.COPD..do.you.still.have.COPD. & X.Genetic.Epidemiology.of.COPD..COPDGene..Subject.Phenotype.Respiratory.Disease.Respiratory.Conditions.COPD.COPD..have.you.ever.had.COPD. & X.Genetic.Epidemiology.of.COPD..COPDGene..Subject.Phenotype.Respiratory.Disease.Respiratory.Conditions.COPD.COPD..received.medical.treatment.or.used.medications.inhaler. & X.Genetic.Epidemiology.of.COPD..COPDGene..Subject.Phenotype.Respiratory.Disease.Respiratory.Conditions.COPD.Episodes.past.year..number.of.times..Increased.usual.medication.. & X.Genetic.Epidemiology.of.COPD..COPDGene..Subject.Phenotype.Respiratory.Disease.Respiratory.Conditions.COPD.Episodes.past.year..number.of.times..No.special.treatment.. & X.Genetic.Epidemiology.of.COPD..COPDGene..Subject.Phenotype.Respiratory.Disease.Respiratory.Conditions.COPD.Episodes.past.year..number.of.times..hospital.. & X.Genetic.Epidemiology.of.COPD..COPDGene..Subject.Phenotype.Respiratory.Disease.Respiratory.Conditions.COPD.Episodes.past.year..number.of.times.antibiotics.or.steroids.at.home. & X.Genetic.Epidemiology.of.COPD..COPDGene..Subject.Phenotype.Respiratory.Disease.Respiratory.Conditions.COPD.Episodes.past.year..number.of.times.doctor.new.prescription..antibiotics.or.steroids.. & X.Genetic.Epidemiology.of.COPD..COPDGene..Subject.Phenotype.Respiratory.Disease.Respiratory.Conditions.COPD.Final.GOLD.stage.post.QA. & X.Genetic.Epidemiology.of.COPD..COPDGene..Subject.Phenotype.Respiratory.Disease.Respiratory.Conditions.Chronic.Bronchitis.Chronic.bronchitis.calc..from.cough.phlegm.ques. & X.Genetic.Epidemiology.of.COPD..COPDGene..Subject.Phenotype.Respiratory.Disease.Respiratory.Conditions.Chronic.Bronchitis.Chronic.bronchitis..at.about.what.age.did.it.start. & X.Genetic.Epidemiology.of.COPD..COPDGene..Subject.Phenotype.Respiratory.Disease.Respiratory.Conditions.Chronic.Bronchitis.Chronic.bronchitis..diagnosed.by.doctor.or.other.health.professional. & X.Genetic.Epidemiology.of.COPD..COPDGene..Subject.Phenotype.Respiratory.Disease.Respiratory.Conditions.Chronic.Bronchitis.Chronic.bronchitis..do.you.still.have.it. & X.Genetic.Epidemiology.of.COPD..COPDGene..Subject.Phenotype.Respiratory.Disease.Respiratory.Conditions.Chronic.Bronchitis.Chronic.bronchitis..have.you.ever.had.chronic.bronchitis. & X.Genetic.Epidemiology.of.COPD..COPDGene..Subject.Phenotype.Respiratory.Disease.Respiratory.Conditions.Chronic.Bronchitis.Chronic.bronchitis..received.medical.treatment.or.used.medications.inhaler. & X.Genetic.Epidemiology.of.COPD..COPDGene..Subject.Phenotype.Respiratory.Disease.Respiratory.Conditions.Emphysema.Emphysema..at.about.what.age.did.it.start. & X.Genetic.Epidemiology.of.COPD..COPDGene..Subject.Phenotype.Respiratory.Disease.Respiratory.Conditions.Emphysema.Emphysema..diagnosed.by.doctor.or.other.health.professional. & X.Genetic.Epidemiology.of.COPD..COPDGene..Subject.Phenotype.Respiratory.Disease.Respiratory.Conditions.Emphysema.Emphysema..do.you.still.have.it. & X.Genetic.Epidemiology.of.COPD..COPDGene..Subject.Phenotype.Respiratory.Disease.Respiratory.Conditions.Emphysema.Emphysema..have.you.ever.had.emphysema. & X.Genetic.Epidemiology.of.COPD..COPDGene..Subject.Phenotype.Respiratory.Disease.Respiratory.Conditions.Emphysema.Emphysema..received.medical.treatment.or.used.medications.inhaler. & X.Genetic.Epidemiology.of.COPD..COPDGene..Subject.Phenotype.Respiratory.Disease.Respiratory.Conditions.Hayfever.Hayfever..at.about.what.age.did.hay.fever.start. & X.Genetic.Epidemiology.of.COPD..COPDGene..Subject.Phenotype.Respiratory.Disease.Respiratory.Conditions.Hayfever.Hayfever..diagnosed.by.doctor.or.other.health.professional. & X.Genetic.Epidemiology.of.COPD..COPDGene..Subject.Phenotype.Respiratory.Disease.Respiratory.Conditions.Hayfever.Hayfever..do.you.still.have.hay.fever. & X.Genetic.Epidemiology.of.COPD..COPDGene..Subject.Phenotype.Respiratory.Disease.Respiratory.Conditions.Hayfever.Hayfever..have.you.ever.had.hay.fever..allergy.involving.nose.or.eyes.. & X.Genetic.Epidemiology.of.COPD..COPDGene..Subject.Phenotype.Respiratory.Disease.Respiratory.Conditions.Hayfever.Hayfever..hay.fever.as.a.child..age.not.known. & X.Genetic.Epidemiology.of.COPD..COPDGene..Subject.Phenotype.Respiratory.Disease.Respiratory.Conditions.Hayfever.Hayfever..hay.fever.stopped.as.a.child..age.not.known. & X.Genetic.Epidemiology.of.COPD..COPDGene..Subject.Phenotype.Respiratory.Disease.Respiratory.Conditions.Hayfever.Hayfever..if.you.no.longer.have.hay.fever.at.what.age.did.it.stop. & X.Genetic.Epidemiology.of.COPD..COPDGene..Subject.Phenotype.Respiratory.Disease.Respiratory.Conditions.Hayfever.Hayfever..received.medical.treatment.or.used.medications.nasal.spray. & X.Genetic.Epidemiology.of.COPD..COPDGene..Subject.Phenotype.Respiratory.Disease.Respiratory.Conditions.MMRC.Dyspnea.Score.MMRC.dyspnea.score. & X.Genetic.Epidemiology.of.COPD..COPDGene..Subject.Phenotype.Respiratory.Disease.Respiratory.Conditions.Other.Chest.Illnesses.Any.chest.injuries. & X.Genetic.Epidemiology.of.COPD..COPDGene..Subject.Phenotype.Respiratory.Disease.Respiratory.Conditions.Other.Chest.Illnesses.Any.chest.operations. & X.Genetic.Epidemiology.of.COPD..COPDGene..Subject.Phenotype.Respiratory.Disease.Respiratory.Conditions.Other.Chest.Illnesses.Any.other.chest.illnesses. & X.Genetic.Epidemiology.of.COPD..COPDGene..Subject.Phenotype.Respiratory.Disease.Respiratory.Conditions.Pneumonia.or.Bronchopneumonia.Pneumonia..at.what.age.did.you.first.have.pneumonia.bronchopneumonia. & X.Genetic.Epidemiology.of.COPD..COPDGene..Subject.Phenotype.Respiratory.Disease.Respiratory.Conditions.Pneumonia.or.Bronchopneumonia.Pneumonia..diagnosed.by.doctor.or.other.health.professional. & X.Genetic.Epidemiology.of.COPD..COPDGene..Subject.Phenotype.Respiratory.Disease.Respiratory.Conditions.Pneumonia.or.Bronchopneumonia.Pneumonia..have.you.ever.had.pneumonia.or.bronchopneumonia. & X.Genetic.Epidemiology.of.COPD..COPDGene..Subject.Phenotype.Respiratory.Disease.Respiratory.Conditions.Pneumonia.or.Bronchopneumonia.Pneumonia..how.many.times.have.you.had.pneumonia.bronchopneumonia. & X.Genetic.Epidemiology.of.COPD..COPDGene..Subject.Phenotype.Respiratory.Disease.Respiratory.Conditions.Pneumonia.or.Bronchopneumonia.Pneumonia..pneumonia.as.a.child..age.not.known. & X.Genetic.Epidemiology.of.COPD..COPDGene..Subject.Phenotype.Respiratory.Disease.Respiratory.Conditions.Sleep.Apnea.Sleep.apnea..at.about.what.age.did.sleep.apnea.start. & X.Genetic.Epidemiology.of.COPD..COPDGene..Subject.Phenotype.Respiratory.Disease.Respiratory.Conditions.Sleep.Apnea.Sleep.apnea..diagnosed.by.doctor.or.other.health.professional. & X.Genetic.Epidemiology.of.COPD..COPDGene..Subject.Phenotype.Respiratory.Disease.Respiratory.Conditions.Sleep.Apnea.Sleep.apnea..do.you.still.have.sleep.apnea. & X.Genetic.Epidemiology.of.COPD..COPDGene..Subject.Phenotype.Respiratory.Disease.Respiratory.Conditions.Sleep.Apnea.Sleep.apnea..have.you.ever.had.sleep.apnea. & X.Genetic.Epidemiology.of.COPD..COPDGene..Subject.Phenotype.Respiratory.Disease.Respiratory.Conditions.Sleep.Apnea.Sleep.apnea..in.past.12.months.have.you.received.any.treatment.for.sleep.apnea. & X.Genetic.Epidemiology.of.COPD..COPDGene..Subject.Phenotype.Respiratory.Disease.Respiratory.Symptoms.Cough.Awakened.from.sleep.by.cough.not.from.colds.chest.infection. & X.Genetic.Epidemiology.of.COPD..COPDGene..Subject.Phenotype.Respiratory.Disease.Respiratory.Symptoms.Cough.Cough.like.this.most.days.for.3.consecutive.months.or.more. & X.Genetic.Epidemiology.of.COPD..COPDGene..Subject.Phenotype.Respiratory.Disease.Respiratory.Symptoms.Cough.Do.you.usually.cough.during.rest.of.day.or.night. & X.Genetic.Epidemiology.of.COPD..COPDGene..Subject.Phenotype.Respiratory.Disease.Respiratory.Symptoms.Cough.Do.you.usually.cough.first.thing.in.the.morning.. & X.Genetic.Epidemiology.of.COPD..COPDGene..Subject.Phenotype.Respiratory.Disease.Respiratory.Symptoms.Cough.Do.you.usually.have.a.cough..exclude.clearing.of.throat.. & X.Genetic.Epidemiology.of.COPD..COPDGene..Subject.Phenotype.Respiratory.Disease.Respiratory.Symptoms.Cough.How.many.years.have.you.had.this.cough. & X.Genetic.Epidemiology.of.COPD..COPDGene..Subject.Phenotype.Respiratory.Disease.Respiratory.Symptoms.Cough.If.yes.usually.as.much.as.4.tims.a.day.4..days.per.week. & X.Genetic.Epidemiology.of.COPD..COPDGene..Subject.Phenotype.Respiratory.Disease.Respiratory.Symptoms.Phlegm.from.Chest.Do.you.usually.bring.up.phlegm.2.times.a.day.4.or.more.days. & X.Genetic.Epidemiology.of.COPD..COPDGene..Subject.Phenotype.Respiratory.Disease.Respiratory.Symptoms.Phlegm.from.Chest.Do.you.usually.bring.up.phlegm.from.your.chest. & X.Genetic.Epidemiology.of.COPD..COPDGene..Subject.Phenotype.Respiratory.Disease.Respiratory.Symptoms.Phlegm.from.Chest.Episodes.of.increased.cough.phlegm.lasting.1.week.or.more. & X.Genetic.Epidemiology.of.COPD..COPDGene..Subject.Phenotype.Respiratory.Disease.Respiratory.Symptoms.Phlegm.from.Chest.How.many.episodes.of.increased.cough.phlegm.in.past.12.months. & X.Genetic.Epidemiology.of.COPD..COPDGene..Subject.Phenotype.Respiratory.Disease.Respiratory.Symptoms.Phlegm.from.Chest.How.many.years.had.at.least.one.episode.of.increased.cough.phlegm.per.year. & X.Genetic.Epidemiology.of.COPD..COPDGene..Subject.Phenotype.Respiratory.Disease.Respiratory.Symptoms.Phlegm.from.Chest.How.many.years.have.you.had.trouble.with.phlegm. & X.Genetic.Epidemiology.of.COPD..COPDGene..Subject.Phenotype.Respiratory.Disease.Respiratory.Symptoms.Phlegm.from.Chest.Usually.bring.up.phlegm.from.chest.first.thing.in.morning. & X.Genetic.Epidemiology.of.COPD..COPDGene..Subject.Phenotype.Respiratory.Disease.Respiratory.Symptoms.Phlegm.from.Chest.Usually.bring.up.phlegm.from.chest.rest.of.day.or.at.night. & X.Genetic.Epidemiology.of.COPD..COPDGene..Subject.Phenotype.Respiratory.Disease.Respiratory.Symptoms.Phlegm.from.Chest.Usually.bring.up.phlegm.on.most.days.for.3.months.or.more. & X.Genetic.Epidemiology.of.COPD..COPDGene..Subject.Phenotype.Respiratory.Disease.Respiratory.Symptoms.Shortness.of.Breath.Awakened.from.sleep.by.shortness.of.breath.tightness.in.chess. & X.Genetic.Epidemiology.of.COPD..COPDGene..Subject.Phenotype.Respiratory.Disease.Respiratory.Symptoms.Shortness.of.Breath.Have.shortness.of.breath.when.hurrying.or.slight.uphill. & X.Genetic.Epidemiology.of.COPD..COPDGene..Subject.Phenotype.Respiratory.Disease.Respiratory.Symptoms.Shortness.of.Breath.Have.you.had.2.or.more.shortness.of.breath.episodes. & X.Genetic.Epidemiology.of.COPD..COPDGene..Subject.Phenotype.Respiratory.Disease.Respiratory.Symptoms.Shortness.of.Breath.Too.breathless.to.leave.the.house.on.dressing.undressing. & X.Genetic.Epidemiology.of.COPD..COPDGene..Subject.Phenotype.Respiratory.Disease.Respiratory.Symptoms.Sneezing.Sneezing.runny.blocked.nose.when.you.did.not.have.a.cold.flu. & X.Genetic.Epidemiology.of.COPD..COPDGene..Subject.Phenotype.Respiratory.Disease.Respiratory.Symptoms.Sneezing.Watery.itchy.burning.eyes.but.not.have.cold.or.flu. & X.Genetic.Epidemiology.of.COPD..COPDGene..Subject.Phenotype.Respiratory.Disease.Respiratory.Symptoms.Walk.Slower.Can.t.walk.due.to.condition.other.than.shortness.of.breath. & X.Genetic.Epidemiology.of.COPD..COPDGene..Subject.Phenotype.Respiratory.Disease.Respiratory.Symptoms.Walk.Slower.Have.to.stop.for.breath.after.100.yards.on.level.ground. & X.Genetic.Epidemiology.of.COPD..COPDGene..Subject.Phenotype.Respiratory.Disease.Respiratory.Symptoms.Walk.Slower.Have.to.stop.for.breath.when.walk.on.the.level.at.own.pace. & X.Genetic.Epidemiology.of.COPD..COPDGene..Subject.Phenotype.Respiratory.Disease.Respiratory.Symptoms.Walk.Slower.Have.to.walk.slower.than.others.due.to.shortness.of.breath. & X.Genetic.Epidemiology.of.COPD..COPDGene..Subject.Phenotype.Respiratory.Disease.Respiratory.Symptoms.Wheezing.or.Whistling.in.Chest.Age.first.attack.of.wheezing..don.t.know. & X.Genetic.Epidemiology.of.COPD..COPDGene..Subject.Phenotype.Respiratory.Disease.Respiratory.Symptoms.Wheezing.or.Whistling.in.Chest.Age.wheezing.started..don.t.know. & X.Genetic.Epidemiology.of.COPD..COPDGene..Subject.Phenotype.Respiratory.Disease.Respiratory.Symptoms.Wheezing.or.Whistling.in.Chest.Ever.had.wheezing.or.whistling.in.chest. & X.Genetic.Epidemiology.of.COPD..COPDGene..Subject.Phenotype.Respiratory.Disease.Respiratory.Symptoms.Wheezing.or.Whistling.in.Chest.Had.an.attack.of.wheezing.whistling.in.chest. & X.Genetic.Epidemiology.of.COPD..COPDGene..Subject.Phenotype.Respiratory.Disease.Respiratory.Symptoms.Wheezing.or.Whistling.in.Chest.Have.you.ever.required.medicine.treatment.for.attacks. & X.Genetic.Epidemiology.of.COPD..COPDGene..Subject.Phenotype.Respiratory.Disease.Respiratory.Symptoms.Wheezing.or.Whistling.in.Chest.How.old.when.you.had.first.attack.of.wheezing. & X.Genetic.Epidemiology.of.COPD..COPDGene..Subject.Phenotype.Respiratory.Disease.Respiratory.Symptoms.Wheezing.or.Whistling.in.Chest.How.old.when.you.had.first.wheezing.whistling.in.chest. & X.Genetic.Epidemiology.of.COPD..COPDGene..Subject.Phenotype.Respiratory.Disease.Respiratory.Symptoms.Wheezing.or.Whistling.in.Chest.In.last.12.months.had.wheezing.or.whistling.in.chest. & X.Genetic.Epidemiology.of.COPD..COPDGene..Subject.Phenotype.Respiratory.Disease.Respiratory.Symptoms.Wheezing.or.Whistling.in.Chest.Wheezing..more.than.once.a.week. & X.Genetic.Epidemiology.of.COPD..COPDGene..Subject.Phenotype.Respiratory.Disease.Respiratory.Symptoms.Wheezing.or.Whistling.in.Chest.Wheezing..most.days.and.nights. & X.Genetic.Epidemiology.of.COPD..COPDGene..Subject.Phenotype.Respiratory.Disease.Respiratory.Symptoms.Wheezing.or.Whistling.in.Chest.Wheezing..occasionally.apart.from.colds. & X.Genetic.Epidemiology.of.COPD..COPDGene..Subject.Phenotype.Respiratory.Disease.Respiratory.Symptoms.Wheezing.or.Whistling.in.Chest.Wheezing..when.you.have.a.cold. & X.Genetic.Epidemiology.of.COPD..COPDGene..Subject.Phenotype.Respiratory.Disease.Severity.of.COPD.Exacerbations.Chest.Trouble.Been.treated.with.steroid.pills.or.injections. & X.Genetic.Epidemiology.of.COPD..COPDGene..Subject.Phenotype.Respiratory.Disease.Severity.of.COPD.Exacerbations.Chest.Trouble.Had.a.flare.up.of.chest.troubles.in.last.12.months. & X.Genetic.Epidemiology.of.COPD..COPDGene..Subject.Phenotype.Respiratory.Disease.Severity.of.COPD.Exacerbations.Chest.Trouble.If.yes.how.many.times. & X.Genetic.Epidemiology.of.COPD..COPDGene..Subject.Phenotype.Respiratory.Disease.Severity.of.COPD.Exacerbations.Chest.Trouble.Severe.exacerbations.in.the.last.year. & X.Genetic.Epidemiology.of.COPD..COPDGene..Subject.Phenotype.SF.36.Health.Survey.SF.36.Body.Pain..BP..score. & X.Genetic.Epidemiology.of.COPD..COPDGene..Subject.Phenotype.SF.36.Health.Survey.SF.36.Body.Pain..BP..t.score..normalized.. & X.Genetic.Epidemiology.of.COPD..COPDGene..Subject.Phenotype.SF.36.Health.Survey.SF.36.General.Health..GH..score. & X.Genetic.Epidemiology.of.COPD..COPDGene..Subject.Phenotype.SF.36.Health.Survey.SF.36.General.Health..GH..t.score..normalized.. & X.Genetic.Epidemiology.of.COPD..COPDGene..Subject.Phenotype.SF.36.Health.Survey.SF.36.Mental.Health..MH..score. & X.Genetic.Epidemiology.of.COPD..COPDGene..Subject.Phenotype.SF.36.Health.Survey.SF.36.Mental.Health..MH..t.score..normalized.. & X.Genetic.Epidemiology.of.COPD..COPDGene..Subject.Phenotype.SF.36.Health.Survey.SF.36.Mental.Health.Aggregate..MCS..Score..normalized.. & X.Genetic.Epidemiology.of.COPD..COPDGene..Subject.Phenotype.SF.36.Health.Survey.SF.36.Physical.Function..PF..score. & X.Genetic.Epidemiology.of.COPD..COPDGene..Subject.Phenotype.SF.36.Health.Survey.SF.36.Physical.Function..PF..t.score..normalized.. & X.Genetic.Epidemiology.of.COPD..COPDGene..Subject.Phenotype.SF.36.Health.Survey.SF.36.Physical.Health.Aggregate..PCS..Score..normalized.. & X.Genetic.Epidemiology.of.COPD..COPDGene..Subject.Phenotype.SF.36.Health.Survey.SF.36.Role.Emotional..RE..score. & X.Genetic.Epidemiology.of.COPD..COPDGene..Subject.Phenotype.SF.36.Health.Survey.SF.36.Role.Emotional..RE..t.score..normalized.. & X.Genetic.Epidemiology.of.COPD..COPDGene..Subject.Phenotype.SF.36.Health.Survey.SF.36.Role.Physical..RP..score. & X.Genetic.Epidemiology.of.COPD..COPDGene..Subject.Phenotype.SF.36.Health.Survey.SF.36.Role.Physical..RP..t.score..normalized.. & X.Genetic.Epidemiology.of.COPD..COPDGene..Subject.Phenotype.SF.36.Health.Survey.SF.36.Social.Function..SF..score. & X.Genetic.Epidemiology.of.COPD..COPDGene..Subject.Phenotype.SF.36.Health.Survey.SF.36.Social.Function..SF..t.score..normalized.. & X.Genetic.Epidemiology.of.COPD..COPDGene..Subject.Phenotype.SF.36.Health.Survey.SF.36.Vitality..VT..score. & X.Genetic.Epidemiology.of.COPD..COPDGene..Subject.Phenotype.SF.36.Health.Survey.SF.36.Vitality..VT..t.score..normalized.. & X.Genetic.Epidemiology.of.COPD..COPDGene..Subject.Phenotype.Sociodemography.and.Administration.Race.Adjusted.Age.at.enrollment. & X.Genetic.Epidemiology.of.COPD..COPDGene..Subject.Phenotype.Sociodemography.and.Administration.Race.Adjusted.FRC.percent.predicted.race.adjusted. & X.Genetic.Epidemiology.of.COPD..COPDGene..Subject.Phenotype.Sociodemography.and.Administration.Race.Adjusted.FRC.predicted.race.adjusted. & X.Genetic.Epidemiology.of.COPD..COPDGene..Subject.Phenotype.Sociodemography.and.Administration.Race.Adjusted.TLC.percent.predicted.race.adjusted. & X.Genetic.Epidemiology.of.COPD..COPDGene..Subject.Phenotype.Sociodemography.and.Administration.Race.Adjusted.TLC.predicted.race.adjusted. & X.Genetic.Epidemiology.of.COPD..COPDGene..Subject.Phenotype.Spirometry.Postbronchodilator.Pulmonary.Function.Testing.BDR.Bronchodilator.responsiveness. & X.Genetic.Epidemiology.of.COPD..COPDGene..Subject.Phenotype.Spirometry.Postbronchodilator.Pulmonary.Function.Testing.BDR.Pre.Post.bronch.FEV1...change. & X.Genetic.Epidemiology.of.COPD..COPDGene..Subject.Phenotype.Spirometry.Postbronchodilator.Pulmonary.Function.Testing.BDR.Pre.Post.bronch.FVC...change. & X.Genetic.Epidemiology.of.COPD..COPDGene..Subject.Phenotype.Spirometry.Postbronchodilator.Pulmonary.Function.Testing.FEF.FEF.25.75.post.bronch. & X.Genetic.Epidemiology.of.COPD..COPDGene..Subject.Phenotype.Spirometry.Postbronchodilator.Pulmonary.Function.Testing.FEV.FEV1...pred.post.bronch. & X.Genetic.Epidemiology.of.COPD..COPDGene..Subject.Phenotype.Spirometry.Postbronchodilator.Pulmonary.Function.Testing.FEV.FEV1.post.bronch. & X.Genetic.Epidemiology.of.COPD..COPDGene..Subject.Phenotype.Spirometry.Postbronchodilator.Pulmonary.Function.Testing.FEV.FEV1.FVC.post.bronch. & X.Genetic.Epidemiology.of.COPD..COPDGene..Subject.Phenotype.Spirometry.Postbronchodilator.Pulmonary.Function.Testing.FEV.FEV6.post.bronch. & X.Genetic.Epidemiology.of.COPD..COPDGene..Subject.Phenotype.Spirometry.Postbronchodilator.Pulmonary.Function.Testing.FEV.Pre.Post.bronch.FEV1.volume.change. & X.Genetic.Epidemiology.of.COPD..COPDGene..Subject.Phenotype.Spirometry.Postbronchodilator.Pulmonary.Function.Testing.FVC.FVC...pred.post.bronch. & X.Genetic.Epidemiology.of.COPD..COPDGene..Subject.Phenotype.Spirometry.Postbronchodilator.Pulmonary.Function.Testing.FVC.FVC.post.bronch. & X.Genetic.Epidemiology.of.COPD..COPDGene..Subject.Phenotype.Spirometry.Postbronchodilator.Pulmonary.Function.Testing.FVC.Pre.Post.bronch.FVC.volume.change. & X.Genetic.Epidemiology.of.COPD..COPDGene..Subject.Phenotype.Spirometry.Postbronchodilator.Pulmonary.Function.Testing.PEF.PEF.post.bronch. & X.Genetic.Epidemiology.of.COPD..COPDGene..Subject.Phenotype.Spirometry.Postbronchodilator.Pulmonary.Function.Testing.PFT.PFT.to.CT.scan.number.of.days. & X.Genetic.Epidemiology.of.COPD..COPDGene..Subject.Phenotype.Spirometry.Postbronchodilator.Pulmonary.Function.Testing.PFT.PFT.used..pre.post.failed.noUtah. & X.Genetic.Epidemiology.of.COPD..COPDGene..Subject.Phenotype.Spirometry.Prebronchodilator.Pulmonary.Function.Testing.FEF.25.75.pre.bronch. & X.Genetic.Epidemiology.of.COPD..COPDGene..Subject.Phenotype.Spirometry.Prebronchodilator.Pulmonary.Function.Testing.FEV1.pre.bronch. & X.Genetic.Epidemiology.of.COPD..COPDGene..Subject.Phenotype.Spirometry.Prebronchodilator.Pulmonary.Function.Testing.FEV1.FVC.pre.bronch. & X.Genetic.Epidemiology.of.COPD..COPDGene..Subject.Phenotype.Spirometry.Prebronchodilator.Pulmonary.Function.Testing.FEV6.pre.bronch. & X.Genetic.Epidemiology.of.COPD..COPDGene..Subject.Phenotype.Spirometry.Prebronchodilator.Pulmonary.Function.Testing.FVC.pre.bronch. & X.Genetic.Epidemiology.of.COPD..COPDGene..Subject.Phenotype.Spirometry.Prebronchodilator.Pulmonary.Function.Testing.PEF.pre.bronch. & X.Genetic.Epidemiology.of.COPD..COPDGene..Subject.Phenotype.St..George.s.Respiratory.Questionnaire.SGRQ.score..active. & X.Genetic.Epidemiology.of.COPD..COPDGene..Subject.Phenotype.St..George.s.Respiratory.Questionnaire.SGRQ.score..impact. & X.Genetic.Epidemiology.of.COPD..COPDGene..Subject.Phenotype.St..George.s.Respiratory.Questionnaire.SGRQ.score..symptoms. & X.Genetic.Epidemiology.of.COPD..COPDGene..Subject.Phenotype.St..George.s.Respiratory.Questionnaire.SGRQ.score..total. & X.Genetic.Epidemiology.of.COPD..COPDGene..Subject.Phenotype.TLC.Flag.for.low.TLC.percent.predicted...70... & X.Genetic.Epidemiology.of.COPD..COPDGene..Subject.Phenotype.VIDA.Attenuation.mean.Exp.CT.VIDA. & X.Genetic.Epidemiology.of.COPD..COPDGene..Subject.Phenotype.VIDA.Attenuation.mean.Insp.CT.VIDA. & X.Genetic.Epidemiology.of.COPD..COPDGene..Subject.Phenotype.VIDA.Exp.Mean.Atten...Insp.Mean.Atten.ratio.CT.VIDA. & X.Genetic.Epidemiology.of.COPD..COPDGene..Subject.Phenotype.VIDA.FRC.CT.VIDA. & X.Genetic.Epidemiology.of.COPD..COPDGene..Subject.Phenotype.VIDA.Hu.15th.percentile.Exp.CT.VIDA. & X.Genetic.Epidemiology.of.COPD..COPDGene..Subject.Phenotype.VIDA.Hu.15th.percentile.Insp.CT.VIDA. & X.Genetic.Epidemiology.of.COPD..COPDGene..Subject.Phenotype.VIDA.Percent.Emph.Lower.Lobes.CT.VIDA. & X.Genetic.Epidemiology.of.COPD..COPDGene..Subject.Phenotype.VIDA.Percent.Emph.Upper.Lobes.CT.VIDA. & X.Genetic.Epidemiology.of.COPD..COPDGene..Subject.Phenotype.VIDA.Percent.emph...950.Hu..total.lung.CT.VIDA. & X.Genetic.Epidemiology.of.COPD..COPDGene..Subject.Phenotype.VIDA.Percent.gas.trap...856.Hu..total.lung.CT.VIDA. & X.Genetic.Epidemiology.of.COPD..COPDGene..Subject.Phenotype.VIDA.Pi10.SRWA.CT.VIDA. & X.Genetic.Epidemiology.of.COPD..COPDGene..Subject.Phenotype.VIDA.Pi15.SRWA.CT.VIDA. & X.Genetic.Epidemiology.of.COPD..COPDGene..Subject.Phenotype.VIDA.TLC.CT.VIDA. & X.Genetic.Epidemiology.of.COPD..COPDGene..Subject.Phenotype.VIDA.Upper.Lobe.Lower.Lobe.ratio.CT.VIDA. & X.Genetic.Epidemiology.of.COPD..COPDGene..Subject.Phenotype.VIDA.Upper.Lobes.percent.of.total.air.vol.CT.VIDA. & X.Genetic.Epidemiology.of.COPD..COPDGene..Subject.Phenotype.VIDA.Wall.area.percent..segmental.CT.VIDA. & X.Genetic.Epidemiology.of.COPD..COPDGene..Subject.Phenotype.VIDA.Wall.area.percent..sub.segmental.CT.VIDA. & X.Genetic.Epidemiology.of.COPD..COPDGene..Subjects.Affection.status. & X.\\_Consents.Short.Study.Accession.with.Consent.Code.\\\\\n",
       "  & <int> & <dbl> & <fct> & <fct> & <dbl> & <fct> & <fct> & <fct> & <fct> & <fct> & <dbl> & <dbl> & <dbl> & <dbl> & <dbl> & <dbl> & <dbl> & <dbl> & <dbl> & <dbl> & <dbl> & <dbl> & <dbl> & <dbl> & <fct> & <dbl> & <fct> & <fct> & <dbl> & <dbl> & <fct> & <fct> & <fct> & <dbl> & <dbl> & <dbl> & <dbl> & <dbl> & <dbl> & <dbl> & <fct> & <fct> & <dbl> & <fct> & <fct> & <fct> & <fct> & <fct> & <fct> & <fct> & <fct> & <fct> & <fct> & <fct> & <fct> & <fct> & <fct> & <fct> & <fct> & <fct> & <fct> & <fct> & <fct> & <fct> & <fct> & <fct> & <fct> & <fct> & <fct> & <fct> & <fct> & <fct> & <fct> & <fct> & <fct> & <fct> & <fct> & <fct> & <fct> & <fct> & <fct> & <fct> & <fct> & <fct> & <fct> & <fct> & <fct> & <fct> & <fct> & <fct> & <fct> & <fct> & <fct> & <fct> & <fct> & <fct> & <fct> & <fct> & <fct> & <fct> & <fct> & <fct> & <fct> & <fct> & <fct> & <dbl> & <dbl> & <fct> & <fct> & <dbl> & <fct> & <fct> & <fct> & <fct> & <fct> & <fct> & <fct> & <dbl> & <dbl> & <fct> & <fct> & <dbl> & <dbl> & <dbl> & <fct> & <fct> & <dbl> & <fct> & <dbl> & <dbl> & <dbl> & <dbl> & <dbl> & <dbl> & <dbl> & <dbl> & <dbl> & <dbl> & <dbl> & <fct> & <fct> & <dbl> & <dbl> & <dbl> & <fct> & <dbl> & <dbl> & <fct> & <fct> & <fct> & <fct> & <fct> & <fct> & <fct> & <fct> & <fct> & <fct> & <fct> & <fct> & <fct> & <fct> & <fct> & <dbl> & <fct> & <fct> & <fct> & <dbl> & <fct> & <dbl> & <dbl> & <fct> & <fct> & <fct> & <dbl> & <dbl> & <fct> & <fct> & <fct> & <fct> & <dbl> & <dbl> & <dbl> & <dbl> & <dbl> & <fct> & <dbl> & <dbl> & <fct> & <fct> & <fct> & <fct> & <dbl> & <fct> & <fct> & <fct> & <fct> & <dbl> & <fct> & <fct> & <fct> & <fct> & <fct> & <dbl> & <fct> & <dbl> & <fct> & <fct> & <fct> & <dbl> & <fct> & <fct> & <dbl> & <fct> & <dbl> & <fct> & <fct> & <fct> & <fct> & <fct> & <fct> & <fct> & <fct> & <fct> & <dbl> & <fct> & <fct> & <fct> & <fct> & <dbl> & <dbl> & <dbl> & <fct> & <fct> & <fct> & <fct> & <fct> & <fct> & <fct> & <fct> & <fct> & <fct> & <fct> & <fct> & <fct> & <fct> & <fct> & <fct> & <fct> & <fct> & <dbl> & <dbl> & <fct> & <fct> & <fct> & <fct> & <fct> & <fct> & <fct> & <dbl> & <dbl> & <dbl> & <dbl> & <dbl> & <dbl> & <dbl> & <dbl> & <dbl> & <dbl> & <dbl> & <dbl> & <dbl> & <dbl> & <dbl> & <dbl> & <dbl> & <dbl> & <dbl> & <dbl> & <dbl> & <dbl> & <dbl> & <dbl> & <dbl> & <dbl> & <dbl> & <dbl> & <dbl> & <dbl> & <dbl> & <dbl> & <dbl> & <dbl> & <dbl> & <dbl> & <dbl> & <dbl> & <dbl> & <fct> & <dbl> & <dbl> & <dbl> & <dbl> & <dbl> & <dbl> & <dbl> & <dbl> & <dbl> & <dbl> & <fct> & <dbl> & <dbl> & <dbl> & <dbl> & <dbl> & <dbl> & <dbl> & <dbl> & <dbl> & <dbl> & <dbl> & <dbl> & <dbl> & <dbl> & <dbl> & <dbl> & <dbl> & <fct> & <fct>\\\\\n",
       "\\hline\n",
       "\t10380 &  45783 & 1466 & Straight & No  &   0 &                             &    &                             &    & Yes & NaN &   0 & 0.8826 & 2.3146 & -805 & -855 & -669.223 & -758.282 &  0.1724 &  0.0828 &  0.1269 &  4.6724 & 3.2217 & 0.480 & No  & 0.72 & Female & No  & NaN & NaN &                             &                             &                             &  96 & 37.44 &  69 &  83 & 161.3 & 128 & 97.4 & Caucasian & Not Hispanic or Latino & 2010 &  & No & No & No & No & No & No & No  & No  & No & No & No & No  & No & No  & Yes & No  & No & No & No  & No  & No        & No & No & Very Good & No  & No & No  & No & No  & No &  &  &  &  &  &  & No & No & No & Between 31-60 min & Yes & Yes & First cigarette of the day & Shortness of breath    & No & No & No  & No & No  & No & No  & No  & No & No  & No & No & No  & A  & baseline & STD  & No  & NaN &   0 &  & No  & NaN & No & No & No        & No  & Yes & College or technical school graduate (Bachelor's or Associate degree) &                                 & NaN & NaN & No & No & NaN & NaN &  20 &     & Yes & 35.5 & Yes &   8 &   1 &   8 &   0 & NaN &  14 &  35.5 &   0 &   4 & NaN & NaN & No & No & NaN & NaN &  18 & Yes         &  10 &  10 & No          & Yes         & No          & Do not know & Do not know & Do not know & No          & Do not know & No          & No          & Yes         & Yes & Normal   &  &  & NaN &  &  & No          & NaN &  &   0 & NaN &  &     & No          & NaN & NaN &     &     & No  &     &   0 &   0 &   0 &   0 &   0 & GOLD 0 Control (FEV1 >  80\\% FEV1/FVC >  0.7) &   0 & NaN &  &  & No          &  & NaN &     &     & No  &     &  37 & Yes & Yes & Yes         &  &  & NaN & Yes &   0 & No & No & No &  42 & Yes & Yes &   1 &  & NaN &  &  & No          &  & No  & No  & Yes & No  & No &  25 &  & No  & Yes & No  & NaN & NaN &  25 & No  & Yes & Yes & No  & No  & Yes &     & Yes & Yes & No &     &     &     &             &  & Yes & Yes & No  &  21 &  37 & No  &    &    &     &     & No  & No  & NaN &   0 &  52 & 41.83 &  72 & 50.55 &  60 & 41.56 & 36.78 &  80 & 48.61 & 49.3 & 58.33 & 36.44 & 68.75 & 44.61 & 62.5 & 40.49 & 37.5 & 39.6 & 49.5 &  89.4 & 2.66262 &  67.8 & 4.85580 &   0 & -1.0 & -2.2 & 3.129 &  92.5 & 2.563 & 0.85 & 2.990 & -0.027 &  86.0 & 3.003 & -0.069 & 6.407 &   0 & post & 3.201 & 2.590 & 0.84 & 3.054 & 3.072 & 6.024 & 41.40 &  7.76 & 15.43 & 19.32 & flagged as too low      & -658.4618 & -749.0995 & 0.8790 & 2.38 & -803.4529 & -853.7421 &  0.12875 &  0.2526 &  0.2346 &  4.8727 & 3.841 & 5.339 & 3.29 &   NaN & 45.80 & 63.8850 &     NaN & Control & phs000179.c1\\\\\n",
       "\t10381 &  45784 &  865 & Straight & Yes &   4 & Checked (multiple-response) & No & Checked (multiple-response) & No & Yes & NaN &   0 & 0.7745 & 1.2879 & -827 & -929 & -650.714 & -840.226 &  3.6506 &  9.4689 &  6.3306 &  8.2400 & 7.5611 & 2.594 &     & 0.37 & Female & Yes & 3.5 &  24 & Checked (multiple-response) & Checked (multiple-response) & Checked (multiple-response) &  83 & 24.32 &  67 &  72 & 154.7 & 167 & 58.2 & Caucasian & Not Hispanic or Latino & 2008 &  &    & No & No & No & No & No & Yes & Yes & No & No & No & Yes & No & Yes & No  & Yes & No & No & Yes & No  & No        & No & No & Good      & Yes & No & No  & No & Yes &    &  &  &  &  &  &  & No &    &    &                   &     &     &                            & Leg or back discomfort & No & No & Yes & No & Yes & No & No  & No  & No & No  & No & No & No  & B  & baseline & STD  & No  & NaN &   0 &  & No  & NaN & No & No & Uncertain & No  & No  & Some college or technical school  no degree                           & Reached retirement age          & NaN & NaN & No & No & NaN & NaN &  20 & Yes & No  & 60.0 & Yes & NaN & NaN & NaN & NaN &  74 &  14 &  60.0 &   3 & NaN & NaN & NaN & No & No & NaN & NaN &   0 & No          &  50 &  56 & No          & No          & No          & No          & No          & No          & No          & No          & No          & No          & No          & No  & Normal   &  &  & NaN &  &  & No          & NaN &  &   0 &  74 &  & Yes & Yes         &   1 &  74 & Yes & Yes & Yes & Yes &   0 &   0 &   0 &   0 &   0 & GOLD 1 (FEV1 >  80\\% FEV1/FVC < 0.7)          &   0 & NaN &  &  & No          &  &  77 & Yes & Yes & Yes & No  & NaN &     &     & Do not know &  &  & NaN &     &   1 & No & No & No & NaN &     & No  & NaN &  & NaN &  &  & No          &  & No  & No  & No  & No  & No & NaN &  &     & No  & No  & NaN & NaN & NaN & No  & No  & No  & No  & Yes &     & No  & No  & Yes & No & No  & No  & No  &             &  & No  & No  &     & NaN & NaN & No  &    &    &     &     & Yes & No  &   1 &   0 & NaN &   NaN & NaN &   NaN & NaN &   NaN &   NaN & NaN &   NaN &  NaN &   NaN &   NaN &   NaN &   NaN &  NaN &   NaN &  NaN &  NaN & 77.3 &  54.7 & 2.54258 &  85.3 & 4.42020 &   0 &  4.3 &  1.4 & 0.578 &  87.1 & 1.525 & 0.65 & 2.134 &  0.063 & 100.3 & 2.357 &  0.032 & 4.744 &   0 & post & 0.512 & 1.462 & 0.63 & 2.112 & 2.325 & 5.741 & 72.29 & 43.61 & 12.47 & 47.93 & Not flagged as an issue & -671.7192 & -841.4849 & 0.7983 & 1.39 & -839.5561 & -928.4901 &  5.98960 &  8.1419 &  6.6433 & 11.0298 & 3.669 & 5.065 & 3.77 & 1.359 & 44.19 & 63.7417 & 64.3433 & Other   & phs000179.c1\\\\\n",
       "\t10382 &  45785 & 1482 & Circular & No  &   0 &                             &    &                             &    & Yes & NaN &   0 & 0.7736 & 1.7441 & -791 & -903 & -629.247 & -813.373 &  0.6110 &  2.1900 &  1.3852 &  3.5193 & 4.0339 & 3.584 &     & 0.42 & Female & No  & NaN & NaN &                             &                             &                             &  96 & 27.82 &  47 &  56 & 155.2 &  98 & 67.0 & Caucasian & Not Hispanic or Latino & 2008 &  &    & No & No & No & No & No & No  & No  & No & No & No & Yes & No & Yes & Yes & No  & No & No & No  & No  & No        & No & No & Excellent & No  & No & Yes & No & No  &    &  &  &  &  &  &  & No &    &    &                   &     &     &                            & Neither                & No & No & No  & No & No  & No & No  & No  & No & No  & No & No & No  & A  & baseline & STD  & No  & NaN &   0 &  & No  & NaN & No & No & No        & No  & No  & College or technical school graduate (Bachelor's or Associate degree) & Reached retirement age          & NaN & NaN & No & No & NaN & NaN &  40 & Yes & No  & 32.0 & Yes & NaN & NaN & NaN & NaN &  49 &  17 &  64.0 &  16 & NaN & NaN & NaN & No & No & NaN & NaN &  18 & No          &  15 &  14 & Do not know & Do not know & Do not know & Do not know & Do not know & Do not know & Do not know & Do not know & Yes         & Do not know & Yes         & No  & Normal   &  &  & NaN &  &  & No          & NaN &  &   0 & NaN &  &     & No          & NaN & NaN &     &     & No  &     &   0 &   0 &   0 &   0 &   0 & GOLD 0 Control (FEV1 >  80\\% FEV1/FVC >  0.7) &   0 & NaN &  &  & No          &  & NaN &     &     & No  &     & NaN &     &     & No          &  &  & NaN &     &   0 & No & No & No & NaN &     & No  & NaN &  & NaN &  &  & No          &  & No  & No  & Yes & No  & No &   0 &  &     & No  & No  & NaN & NaN & NaN & No  & No  & No  & No  & No  &     &     & No  & No  & No &     &     &     &             &  & No  & No  &     & NaN & NaN & No  &    &    &     &     & No  & No  & NaN &   0 & NaN &   NaN & NaN &   NaN & NaN &   NaN &   NaN & NaN &   NaN &  NaN &   NaN &   NaN &   NaN &   NaN &  NaN &   NaN &  NaN &  NaN & 64.6 &  66.5 & 2.54108 &  90.3 & 4.45320 &   0 &  3.2 & -1.2 & 3.164 & 115.6 & 2.497 & 0.83 & 2.959 &  0.077 & 106.0 & 2.999 & -0.037 & 4.542 &   7 & post & 2.449 & 2.420 & 0.80 & 2.998 & 3.036 & 6.240 &  6.21 &  1.63 &  0.00 &  2.81 & Not flagged as an issue & -637.1977 & -815.1947 & 0.7817 & 1.69 & -792.0441 & -902.5311 &  0.68980 &  2.0813 &  1.4878 &  3.7366 & 3.679 & 5.136 & 4.02 &   NaN & 50.00 & 61.0133 & 64.3425 & Control & phs000179.c1\\\\\n",
       "\t10383 &  45786 &  NaN & Straight & No  &   6 &                             &    &                             &    & Yes & NaN &   0 & 0.8816 & 3.8721 & -927 & -959 & -757.567 & -859.322 & 11.0060 & 26.3622 & 20.2131 & 36.2888 & 7.7226 & 2.395 & Yes & 0.51 & Male   & Yes & 4.0 &  24 & Checked (multiple-response) & Checked (multiple-response) & Checked (multiple-response) &  82 & 29.86 &  69 &  59 & 169.9 & 135 & 86.2 & Caucasian & Not Hispanic or Latino & 2009 &  &    & No & No & No & No & No & Yes & No  & No & No & No & No  & No & No  & No  & No  & No & No & No  & Yes & Uncertain & No & No & Fair      & No  & No & No  & No & No  &    &  &  &  &  &  &  & No &    &    &                   &     &     &                            & Shortness of breath    & No & No & No  & No & Yes & No & Yes & Yes & No & Yes & No & No & Yes & D2 & baseline & B35F & Yes &   3 &   3 &  & Yes &   3 & No & No & Yes       & Yes & No  & Some college or technical school  no degree                           & Retired because of lung disease & NaN & NaN & No & No & NaN & NaN &  60 & Yes & No  & 35.0 & Yes & NaN & NaN & NaN & NaN &  48 &  13 & 105.0 &  14 & NaN & NaN & NaN & No & No & NaN & NaN &  18 & Do not know &  40 &  30 & Do not know & Do not know & Do not know & Do not know & Do not know & Do not know & Do not know & Do not know & Do not know & Do not know & Do not know & Yes & Moderate &  &  & NaN &  &  & Do not know & NaN &  & NaN & NaN &  &     & Do not know & NaN &  53 & Yes & Yes & Yes & Yes &   0 &   0 &   3 &   0 &   0 & GOLD 2 (50\\% <  FEV1 < 80\\% FEV1/FVC < 0.7)    &   0 & NaN &  &  & Do not know &  &  53 & Yes & Yes & Yes & Yes & NaN &     &     & No          &  &  & NaN &     &   4 & No & No & No &  21 & Yes & Yes &   7 &  & NaN &  &  & Do not know &  & Yes & Yes & No  & Yes & No &   4 &  & Yes & Yes & Yes &   3 &   4 &   1 & Yes & Yes & Yes & Yes & Yes & Yes & Yes & Yes & Yes & No & Yes & Yes & Yes & Do not know &  & Yes & Yes & Yes &  53 &  53 & Yes & No & No & Yes & Yes & Yes & Yes &   3 &   1 & NaN &   NaN & NaN &   NaN & NaN &   NaN &   NaN & NaN &   NaN &  NaN &   NaN &   NaN &   NaN &   NaN &  NaN &   NaN &  NaN &  NaN & 61.8 & 112.7 & 3.50366 & 119.6 & 6.49501 &   1 & 16.5 &  4.6 & 0.486 &  64.1 & 2.026 & 0.34 & 4.269 &  0.287 & 141.6 & 5.947 &  0.261 & 7.020 &   0 & post & 0.364 & 1.739 & 0.31 & 3.777 & 5.686 & 6.921 & 85.81 & 50.03 & 64.18 & 63.20 & Not flagged as an issue & -751.5564 & -856.6771 & 0.8773 & 3.95 & -925.4721 & -958.5521 & 19.00550 & 23.5841 & 20.7948 & 35.9230 & 3.611 & 5.193 & 7.77 & 1.241 & 42.92 & 61.0533 &     NaN & Case    & phs000179.c1\\\\\n",
       "\t10384 & 122723 &  NaN &          &     & NaN &                             &    &                             &    &     & NaN & NaN &    NaN &    NaN &  NaN &  NaN &      NaN &      NaN &     NaN &     NaN &     NaN &     NaN &    NaN &   NaN &     &  NaN &        &     & NaN & NaN &                             &                             &                             & NaN &   NaN & NaN & NaN &   NaN & NaN &  NaN &           &                        &  NaN &  &    &    &    &    &    &    &     &     &    &    &    &     &    &     &     &     &    &    &     &     &           &    &    &           &     &    &     &    &     &    &  &  &  &  &  &  &    &    &    &                   &     &     &                            &                        &    &    &     &    &     &    &     &     &    &     &    &    &     &    &          &      &     & NaN & NaN &  &     & NaN &    &    &           &     &     &                                                                       &                                 & NaN & NaN &    &    & NaN & NaN & NaN &     &     &  NaN &     & NaN & NaN & NaN & NaN & NaN & NaN &   NaN & NaN & NaN & NaN & NaN &    &    & NaN & NaN & NaN &             & NaN & NaN &             &             &             &             &             &             &             &             &             &             &             &     &          &  &  & NaN &  &  &             & NaN &  & NaN & NaN &  &     &             & NaN & NaN &     &     &     &     & NaN & NaN & NaN & NaN & NaN &                                              & NaN & NaN &  &  &             &  & NaN &     &     &     &     & NaN &     &     &             &  &  & NaN &     & NaN &    &    &    & NaN &     &     & NaN &  & NaN &  &  &             &  &     &     &     &     &    & NaN &  &     &     &     & NaN & NaN & NaN &     &     &     &     &     &     &     &     &     &    &     &     &     &             &  &     &     &     & NaN & NaN &     &    &    &     &     &     &     & NaN & NaN & NaN &   NaN & NaN &   NaN & NaN &   NaN &   NaN & NaN &   NaN &  NaN &   NaN &   NaN &   NaN &   NaN &  NaN &   NaN &  NaN &  NaN &  NaN &   NaN &     NaN &   NaN &     NaN & NaN &  NaN &  NaN &   NaN &   NaN &   NaN &  NaN &   NaN &    NaN &   NaN &   NaN &    NaN &   NaN & NaN &      &   NaN &   NaN &  NaN &   NaN &   NaN &   NaN &   NaN &   NaN &   NaN &   NaN &                         &       NaN &       NaN &    NaN &  NaN &       NaN &       NaN &      NaN &     NaN &     NaN &     NaN &   NaN &   NaN &  NaN &   NaN &   NaN &     NaN &     NaN &         & phs000179.c1\\\\\n",
       "\t10385 & 507518 &  NaN &          &     & NaN &                             &    &                             &    &     & NaN & NaN &    NaN &    NaN &  NaN &  NaN &      NaN &      NaN &     NaN &     NaN &     NaN &     NaN &    NaN &   NaN &     &  NaN &        &     & NaN & NaN &                             &                             &                             & NaN &   NaN & NaN & NaN &   NaN & NaN &  NaN &           &                        &  NaN &  &    &    &    &    &    &    &     &     &    &    &    &     &    &     &     &     &    &    &     &     &           &    &    &           &     &    &     &    &     &    &  &  &  &  &  &  &    &    &    &                   &     &     &                            &                        &    &    &     &    &     &    &     &     &    &     &    &    &     &    &          &      &     & NaN & NaN &  &     & NaN &    &    &           &     &     &                                                                       &                                 & NaN & NaN &    &    & NaN & NaN & NaN &     &     &  NaN &     & NaN & NaN & NaN & NaN & NaN & NaN &   NaN & NaN & NaN & NaN & NaN &    &    & NaN & NaN & NaN &             & NaN & NaN &             &             &             &             &             &             &             &             &             &             &             &     &          &  &  & NaN &  &  &             & NaN &  & NaN & NaN &  &     &             & NaN & NaN &     &     &     &     & NaN & NaN & NaN & NaN & NaN &                                              & NaN & NaN &  &  &             &  & NaN &     &     &     &     & NaN &     &     &             &  &  & NaN &     & NaN &    &    &    & NaN &     &     & NaN &  & NaN &  &  &             &  &     &     &     &     &    & NaN &  &     &     &     & NaN & NaN & NaN &     &     &     &     &     &     &     &     &     &    &     &     &     &             &  &     &     &     & NaN & NaN &     &    &    &     &     &     &     & NaN & NaN & NaN &   NaN & NaN &   NaN & NaN &   NaN &   NaN & NaN &   NaN &  NaN &   NaN &   NaN &   NaN &   NaN &  NaN &   NaN &  NaN &  NaN &  NaN &   NaN &     NaN &   NaN &     NaN & NaN &  NaN &  NaN &   NaN &   NaN &   NaN &  NaN &   NaN &    NaN &   NaN &   NaN &    NaN &   NaN & NaN &      &   NaN &   NaN &  NaN &   NaN &   NaN &   NaN &   NaN &   NaN &   NaN &   NaN &                         &       NaN &       NaN &    NaN &  NaN &       NaN &       NaN &      NaN &     NaN &     NaN &     NaN &   NaN &   NaN &  NaN &   NaN &   NaN &     NaN &     NaN &         & phs000179.c1\\\\\n",
       "\\end{tabular}\n"
      ],
      "text/markdown": [
       "\n",
       "A data.frame: 6 × 328\n",
       "\n",
       "| <!--/--> | Patient.ID &lt;int&gt; | X.Genetic.Epidemiology.of.COPD..COPDGene..Subject.Phenotype.6MinWalk.Distance.walked..ft.. &lt;dbl&gt; | X.Genetic.Epidemiology.of.COPD..COPDGene..Subject.Phenotype.6MinWalk.Six.minute.walk..course.layout. &lt;fct&gt; | X.Genetic.Epidemiology.of.COPD..COPDGene..Subject.Phenotype.6MinWalk.Six.minute.walk..was.your.walking.limited.. &lt;fct&gt; | X.Genetic.Epidemiology.of.COPD..COPDGene..Subject.Phenotype.6MinWalk.Supplemental.O2.used.during.6.min.walk.L.min. &lt;dbl&gt; | X.Genetic.Epidemiology.of.COPD..COPDGene..Subject.Phenotype.6MinWalk.Walk.symptoms..back.pain. &lt;fct&gt; | X.Genetic.Epidemiology.of.COPD..COPDGene..Subject.Phenotype.6MinWalk.Walk.symptoms..joint.pain. &lt;fct&gt; | X.Genetic.Epidemiology.of.COPD..COPDGene..Subject.Phenotype.6MinWalk.Walk.symptoms..leg.discomfort.fatigue. &lt;fct&gt; | X.Genetic.Epidemiology.of.COPD..COPDGene..Subject.Phenotype.6MinWalk.Walk.symptoms..shortness.of.breath. &lt;fct&gt; | X.Genetic.Epidemiology.of.COPD..COPDGene..Subject.Phenotype.CT.Acquisition.Parameters.CT.Scanner.CT.scan.final.approval. &lt;fct&gt; | ⋯ ⋯ | X.Genetic.Epidemiology.of.COPD..COPDGene..Subject.Phenotype.VIDA.Percent.gas.trap...856.Hu..total.lung.CT.VIDA. &lt;dbl&gt; | X.Genetic.Epidemiology.of.COPD..COPDGene..Subject.Phenotype.VIDA.Pi10.SRWA.CT.VIDA. &lt;dbl&gt; | X.Genetic.Epidemiology.of.COPD..COPDGene..Subject.Phenotype.VIDA.Pi15.SRWA.CT.VIDA. &lt;dbl&gt; | X.Genetic.Epidemiology.of.COPD..COPDGene..Subject.Phenotype.VIDA.TLC.CT.VIDA. &lt;dbl&gt; | X.Genetic.Epidemiology.of.COPD..COPDGene..Subject.Phenotype.VIDA.Upper.Lobe.Lower.Lobe.ratio.CT.VIDA. &lt;dbl&gt; | X.Genetic.Epidemiology.of.COPD..COPDGene..Subject.Phenotype.VIDA.Upper.Lobes.percent.of.total.air.vol.CT.VIDA. &lt;dbl&gt; | X.Genetic.Epidemiology.of.COPD..COPDGene..Subject.Phenotype.VIDA.Wall.area.percent..segmental.CT.VIDA. &lt;dbl&gt; | X.Genetic.Epidemiology.of.COPD..COPDGene..Subject.Phenotype.VIDA.Wall.area.percent..sub.segmental.CT.VIDA. &lt;dbl&gt; | X.Genetic.Epidemiology.of.COPD..COPDGene..Subjects.Affection.status. &lt;fct&gt; | X._Consents.Short.Study.Accession.with.Consent.Code. &lt;fct&gt; |\n",
       "|---|---|---|---|---|---|---|---|---|---|---|---|---|---|---|---|---|---|---|---|---|---|\n",
       "| 10380 |  45783 | 1466 | Straight | No  |   0 | <!----> | <!----> | <!----> | <!----> | Yes | ⋯ |  4.8727 | 3.841 | 5.339 | 3.29 |   NaN | 45.80 | 63.8850 |     NaN | Control | phs000179.c1 |\n",
       "| 10381 |  45784 |  865 | Straight | Yes |   4 | Checked (multiple-response) | No | Checked (multiple-response) | No | Yes | ⋯ | 11.0298 | 3.669 | 5.065 | 3.77 | 1.359 | 44.19 | 63.7417 | 64.3433 | Other   | phs000179.c1 |\n",
       "| 10382 |  45785 | 1482 | Circular | No  |   0 | <!----> | <!----> | <!----> | <!----> | Yes | ⋯ |  3.7366 | 3.679 | 5.136 | 4.02 |   NaN | 50.00 | 61.0133 | 64.3425 | Control | phs000179.c1 |\n",
       "| 10383 |  45786 |  NaN | Straight | No  |   6 | <!----> | <!----> | <!----> | <!----> | Yes | ⋯ | 35.9230 | 3.611 | 5.193 | 7.77 | 1.241 | 42.92 | 61.0533 |     NaN | Case    | phs000179.c1 |\n",
       "| 10384 | 122723 |  NaN | <!----> | <!----> | NaN | <!----> | <!----> | <!----> | <!----> | <!----> | ⋯ |     NaN |   NaN |   NaN |  NaN |   NaN |   NaN |     NaN |     NaN | <!----> | phs000179.c1 |\n",
       "| 10385 | 507518 |  NaN | <!----> | <!----> | NaN | <!----> | <!----> | <!----> | <!----> | <!----> | ⋯ |     NaN |   NaN |   NaN |  NaN |   NaN |   NaN |     NaN |     NaN | <!----> | phs000179.c1 |\n",
       "\n"
      ],
      "text/plain": [
       "      Patient.ID\n",
       "10380  45783    \n",
       "10381  45784    \n",
       "10382  45785    \n",
       "10383  45786    \n",
       "10384 122723    \n",
       "10385 507518    \n",
       "      X.Genetic.Epidemiology.of.COPD..COPDGene..Subject.Phenotype.6MinWalk.Distance.walked..ft..\n",
       "10380 1466                                                                                      \n",
       "10381  865                                                                                      \n",
       "10382 1482                                                                                      \n",
       "10383  NaN                                                                                      \n",
       "10384  NaN                                                                                      \n",
       "10385  NaN                                                                                      \n",
       "      X.Genetic.Epidemiology.of.COPD..COPDGene..Subject.Phenotype.6MinWalk.Six.minute.walk..course.layout.\n",
       "10380 Straight                                                                                            \n",
       "10381 Straight                                                                                            \n",
       "10382 Circular                                                                                            \n",
       "10383 Straight                                                                                            \n",
       "10384                                                                                                     \n",
       "10385                                                                                                     \n",
       "      X.Genetic.Epidemiology.of.COPD..COPDGene..Subject.Phenotype.6MinWalk.Six.minute.walk..was.your.walking.limited..\n",
       "10380 No                                                                                                              \n",
       "10381 Yes                                                                                                             \n",
       "10382 No                                                                                                              \n",
       "10383 No                                                                                                              \n",
       "10384                                                                                                                 \n",
       "10385                                                                                                                 \n",
       "      X.Genetic.Epidemiology.of.COPD..COPDGene..Subject.Phenotype.6MinWalk.Supplemental.O2.used.during.6.min.walk.L.min.\n",
       "10380   0                                                                                                               \n",
       "10381   4                                                                                                               \n",
       "10382   0                                                                                                               \n",
       "10383   6                                                                                                               \n",
       "10384 NaN                                                                                                               \n",
       "10385 NaN                                                                                                               \n",
       "      X.Genetic.Epidemiology.of.COPD..COPDGene..Subject.Phenotype.6MinWalk.Walk.symptoms..back.pain.\n",
       "10380                                                                                               \n",
       "10381 Checked (multiple-response)                                                                   \n",
       "10382                                                                                               \n",
       "10383                                                                                               \n",
       "10384                                                                                               \n",
       "10385                                                                                               \n",
       "      X.Genetic.Epidemiology.of.COPD..COPDGene..Subject.Phenotype.6MinWalk.Walk.symptoms..joint.pain.\n",
       "10380                                                                                                \n",
       "10381 No                                                                                             \n",
       "10382                                                                                                \n",
       "10383                                                                                                \n",
       "10384                                                                                                \n",
       "10385                                                                                                \n",
       "      X.Genetic.Epidemiology.of.COPD..COPDGene..Subject.Phenotype.6MinWalk.Walk.symptoms..leg.discomfort.fatigue.\n",
       "10380                                                                                                            \n",
       "10381 Checked (multiple-response)                                                                                \n",
       "10382                                                                                                            \n",
       "10383                                                                                                            \n",
       "10384                                                                                                            \n",
       "10385                                                                                                            \n",
       "      X.Genetic.Epidemiology.of.COPD..COPDGene..Subject.Phenotype.6MinWalk.Walk.symptoms..shortness.of.breath.\n",
       "10380                                                                                                         \n",
       "10381 No                                                                                                      \n",
       "10382                                                                                                         \n",
       "10383                                                                                                         \n",
       "10384                                                                                                         \n",
       "10385                                                                                                         \n",
       "      X.Genetic.Epidemiology.of.COPD..COPDGene..Subject.Phenotype.CT.Acquisition.Parameters.CT.Scanner.CT.scan.final.approval.\n",
       "10380 Yes                                                                                                                     \n",
       "10381 Yes                                                                                                                     \n",
       "10382 Yes                                                                                                                     \n",
       "10383 Yes                                                                                                                     \n",
       "10384                                                                                                                         \n",
       "10385                                                                                                                         \n",
       "      ⋯\n",
       "10380 ⋯\n",
       "10381 ⋯\n",
       "10382 ⋯\n",
       "10383 ⋯\n",
       "10384 ⋯\n",
       "10385 ⋯\n",
       "      X.Genetic.Epidemiology.of.COPD..COPDGene..Subject.Phenotype.VIDA.Percent.gas.trap...856.Hu..total.lung.CT.VIDA.\n",
       "10380  4.8727                                                                                                        \n",
       "10381 11.0298                                                                                                        \n",
       "10382  3.7366                                                                                                        \n",
       "10383 35.9230                                                                                                        \n",
       "10384     NaN                                                                                                        \n",
       "10385     NaN                                                                                                        \n",
       "      X.Genetic.Epidemiology.of.COPD..COPDGene..Subject.Phenotype.VIDA.Pi10.SRWA.CT.VIDA.\n",
       "10380 3.841                                                                              \n",
       "10381 3.669                                                                              \n",
       "10382 3.679                                                                              \n",
       "10383 3.611                                                                              \n",
       "10384   NaN                                                                              \n",
       "10385   NaN                                                                              \n",
       "      X.Genetic.Epidemiology.of.COPD..COPDGene..Subject.Phenotype.VIDA.Pi15.SRWA.CT.VIDA.\n",
       "10380 5.339                                                                              \n",
       "10381 5.065                                                                              \n",
       "10382 5.136                                                                              \n",
       "10383 5.193                                                                              \n",
       "10384   NaN                                                                              \n",
       "10385   NaN                                                                              \n",
       "      X.Genetic.Epidemiology.of.COPD..COPDGene..Subject.Phenotype.VIDA.TLC.CT.VIDA.\n",
       "10380 3.29                                                                         \n",
       "10381 3.77                                                                         \n",
       "10382 4.02                                                                         \n",
       "10383 7.77                                                                         \n",
       "10384  NaN                                                                         \n",
       "10385  NaN                                                                         \n",
       "      X.Genetic.Epidemiology.of.COPD..COPDGene..Subject.Phenotype.VIDA.Upper.Lobe.Lower.Lobe.ratio.CT.VIDA.\n",
       "10380   NaN                                                                                                \n",
       "10381 1.359                                                                                                \n",
       "10382   NaN                                                                                                \n",
       "10383 1.241                                                                                                \n",
       "10384   NaN                                                                                                \n",
       "10385   NaN                                                                                                \n",
       "      X.Genetic.Epidemiology.of.COPD..COPDGene..Subject.Phenotype.VIDA.Upper.Lobes.percent.of.total.air.vol.CT.VIDA.\n",
       "10380 45.80                                                                                                         \n",
       "10381 44.19                                                                                                         \n",
       "10382 50.00                                                                                                         \n",
       "10383 42.92                                                                                                         \n",
       "10384   NaN                                                                                                         \n",
       "10385   NaN                                                                                                         \n",
       "      X.Genetic.Epidemiology.of.COPD..COPDGene..Subject.Phenotype.VIDA.Wall.area.percent..segmental.CT.VIDA.\n",
       "10380 63.8850                                                                                               \n",
       "10381 63.7417                                                                                               \n",
       "10382 61.0133                                                                                               \n",
       "10383 61.0533                                                                                               \n",
       "10384     NaN                                                                                               \n",
       "10385     NaN                                                                                               \n",
       "      X.Genetic.Epidemiology.of.COPD..COPDGene..Subject.Phenotype.VIDA.Wall.area.percent..sub.segmental.CT.VIDA.\n",
       "10380     NaN                                                                                                   \n",
       "10381 64.3433                                                                                                   \n",
       "10382 64.3425                                                                                                   \n",
       "10383     NaN                                                                                                   \n",
       "10384     NaN                                                                                                   \n",
       "10385     NaN                                                                                                   \n",
       "      X.Genetic.Epidemiology.of.COPD..COPDGene..Subjects.Affection.status.\n",
       "10380 Control                                                             \n",
       "10381 Other                                                               \n",
       "10382 Control                                                             \n",
       "10383 Case                                                                \n",
       "10384                                                                     \n",
       "10385                                                                     \n",
       "      X._Consents.Short.Study.Accession.with.Consent.Code.\n",
       "10380 phs000179.c1                                        \n",
       "10381 phs000179.c1                                        \n",
       "10382 phs000179.c1                                        \n",
       "10383 phs000179.c1                                        \n",
       "10384 phs000179.c1                                        \n",
       "10385 phs000179.c1                                        "
      ]
     },
     "metadata": {},
     "output_type": "display_data"
    }
   ],
   "source": [
    "tail(facts)"
   ]
  },
  {
   "cell_type": "markdown",
   "metadata": {},
   "source": [
    "### 3. Data-management"
   ]
  },
  {
   "cell_type": "markdown",
   "metadata": {},
   "source": [
    "Since variable names are not the same between the dictionary and the dataframe columns, a temporary workaround is needed: parsing variables names from variables dictionary to match actual column names. (issue arise from the fact the R data.frame column names cannot contain spaces)."
   ]
  },
  {
   "cell_type": "code",
   "execution_count": null,
   "metadata": {},
   "outputs": [],
   "source": [
    "variablesDict[[\"df_name\"]] <- parsing_varNames(variablesDict[[\"name\"]])\n",
    "multiIndex[[\"df_name\"]] <- variablesDict[[\"df_name\"]]"
   ]
  },
  {
   "cell_type": "code",
   "execution_count": null,
   "metadata": {},
   "outputs": [],
   "source": [
    "checking_parsing(names(facts)[-1], variablesDict[mask_vars, \"df_name\"])"
   ]
  },
  {
   "cell_type": "markdown",
   "metadata": {},
   "source": [
    "#### Selecting variables regarding their types"
   ]
  },
  {
   "cell_type": "markdown",
   "metadata": {},
   "source": [
    "One important step in a PheWAS is to get the distinction between categorical and numerical variables. This distinction is straightforward using the variables dictionary."
   ]
  },
  {
   "cell_type": "code",
   "execution_count": null,
   "metadata": {},
   "outputs": [],
   "source": [
    "mask_categories <- variablesDict[, \"categorical\"] == TRUE\n",
    "categorical_varnames <- variablesDict[mask_categories & mask_vars, \"df_name\"]\n",
    "continuous_varnames <- variablesDict[!mask_categories & mask_vars, \"df_name\"]"
   ]
  },
  {
   "cell_type": "markdown",
   "metadata": {},
   "source": [
    "### Selecting the dependent variable to study\n",
    "Most of PheWAS use a genetic variant as the variable used to separate the population between cases and controls. However the population doesn't have to be dichotomized using a genetic variant, and any phenotypic variable could be used to run a PheWAS analysis (see for example [*Neuraz et al.*, 2013](https://journals.plos.org/ploscompbiol/article?id=10.1371/journal.pcbi.1003405)). \n",
    "\n",
    "Here we will use the **COPD status** as the case-control variable to dichotomize the population in our analysis (ie the dependent variable for which univariate association test will be run against)."
   ]
  },
  {
   "cell_type": "code",
   "execution_count": null,
   "metadata": {},
   "outputs": [],
   "source": [
    "dependent_varname <- multiIndex[multiIndex[[\"simplified_name\"]] == \"Affection status\",][[\"df_name\"]]\n",
    "categorical_varnames <- categorical_varnames[-which(categorical_varnames == dependent_varname)]"
   ]
  },
  {
   "cell_type": "code",
   "execution_count": null,
   "metadata": {},
   "outputs": [],
   "source": [
    "table(facts[[dependent_varname]])"
   ]
  },
  {
   "cell_type": "markdown",
   "metadata": {},
   "source": [
    "Then we subset our population regarding the relevant values for the COPD diagnosis variable (i.e. keeping \"Case\" and \"Control\" individuals, and discarding \"Other\", \"Control, Exclusionary Disease\", and null values)."
   ]
  },
  {
   "cell_type": "code",
   "execution_count": null,
   "metadata": {},
   "outputs": [],
   "source": [
    "mask_dependent_varname = facts[[dependent_varname]] %in% c(\"Case\", \"Control\")"
   ]
  },
  {
   "cell_type": "code",
   "execution_count": null,
   "metadata": {},
   "outputs": [],
   "source": [
    "facts <- facts[mask_dependent_varname,]"
   ]
  },
  {
   "cell_type": "code",
   "execution_count": null,
   "metadata": {},
   "outputs": [],
   "source": [
    "count_case_control <- table(facts[[dependent_varname]])"
   ]
  },
  {
   "cell_type": "code",
   "execution_count": null,
   "metadata": {},
   "outputs": [],
   "source": [
    "sprintf(\"Control: %i individuals\\nCase: %i individuals\",\n",
    "        count_case_control[\"Control\"],\n",
    "        count_case_control[\"Case\"]) %>% cat()"
   ]
  },
  {
   "cell_type": "markdown",
   "metadata": {},
   "source": [
    "### 4. Univariate statistical tests"
   ]
  },
  {
   "cell_type": "markdown",
   "metadata": {},
   "source": [
    "Univariate logistic regression models will be runned using each phenotypical variable as the regressor, and Likelihood Ratio Test p-values for the model will be used to assess the significance of the association"
   ]
  },
  {
   "cell_type": "code",
   "execution_count": null,
   "metadata": {},
   "outputs": [],
   "source": [
    "## Unified univariate tests\n",
    "### Likelihood ratio test of a logistic model including the independent variable over model without this variable\n",
    "anova_model <- function(data, dependent_var, independent_var) {\n",
    "    model <- glm(as.formula(paste(dependent_var, \"~ 1 +\", independent_var)),\n",
    "                 data = data,\n",
    "                 family = binomial(link=\"logit\"))\n",
    "    model_reduced <- glm(as.formula(paste(dependent_var, \"~ 1\")),\n",
    "                         data = data,\n",
    "                         family = binomial(link=\"logit\"))\n",
    "    p_val <- anova(model, model_reduced, test =  \"LRT\")[2, \"Pr(>Chi)\"]\n",
    "    return(p_val)    \n",
    "}"
   ]
  },
  {
   "cell_type": "code",
   "execution_count": null,
   "metadata": {},
   "outputs": [],
   "source": [
    "independent_varnames = c(categorical_varnames, continuous_varnames)"
   ]
  },
  {
   "cell_type": "code",
   "execution_count": null,
   "metadata": {},
   "outputs": [],
   "source": [
    "pvalues_list = list()\n",
    "error_list =  list()\n",
    "warning_list = list()\n",
    "cat(\"length categorical\", length(categorical_varnames), \"\\n\")\n",
    "cat(\"length independent\", length(independent_varnames), \"\\n\")"
   ]
  },
  {
   "cell_type": "code",
   "execution_count": null,
   "metadata": {},
   "outputs": [],
   "source": [
    "for (independent_varname in independent_varnames) {\n",
    "    dataset <- na.omit(facts[, c(dependent_varname, independent_varname)])\n",
    "    tryCatch({\n",
    "                pvalues_list[[independent_varname]] <- anova_model(dataset, dependent_varname, independent_varname)\n",
    "#                error_list[[independent_varname]] <- NA\n",
    " #               warning_list[[independent_varname]] <- NA\n",
    "    },\n",
    "             error = function(e) {\n",
    "                print(paste(\"error\", independent_varname))\n",
    "                pvalues_list[[independent_varname]] <- NA\n",
    "                error_list[[independent_varname]] <- e\n",
    "                warning_list[[independent_varname]] <- NA\n",
    "             },\n",
    "             warning = function(w) {\n",
    "                print(paste(\"warning\", independent_varname))\n",
    "                pvalues_list[[independent_varname]] <- NA\n",
    "                error_list[[independent_varname]] <- NA\n",
    "                warning_list[[independent_varname]] <- w                 \n",
    "             }\n",
    "        )\n",
    "}"
   ]
  },
  {
   "cell_type": "code",
   "execution_count": null,
   "metadata": {},
   "outputs": [],
   "source": [
    "df_pvalues <- data.frame(\n",
    "    \"df_name\" = names(pvalues_list),\n",
    "    \"pvalues\" = simplify(unname(pvalues_list)), \n",
    "    stringsAsFactors = F\n",
    ")"
   ]
  },
  {
   "cell_type": "code",
   "execution_count": null,
   "metadata": {},
   "outputs": [],
   "source": [
    "df_pvalues[[\"log_pvalues\"]] <- -log10(df_pvalues$pvalues)"
   ]
  },
  {
   "cell_type": "code",
   "execution_count": null,
   "metadata": {
    "scrolled": true
   },
   "outputs": [],
   "source": [
    "multiIndex_enhanced <- dplyr::left_join(multiIndex, df_pvalues, by=\"df_name\")\n",
    "variablesDict_enhanced <- dplyr::left_join(variablesDict, df_pvalues, by=\"df_name\")"
   ]
  },
  {
   "cell_type": "code",
   "execution_count": null,
   "metadata": {},
   "outputs": [],
   "source": [
    "head(variablesDict_enhanced)"
   ]
  },
  {
   "cell_type": "markdown",
   "metadata": {},
   "source": [
    "#### Univariate test p-values distribution"
   ]
  },
  {
   "cell_type": "code",
   "execution_count": null,
   "metadata": {},
   "outputs": [],
   "source": [
    "ggplot(aes_string(x = \"pvalues\", \n",
    "                 fill = \"categorical\"),\n",
    "       data = variablesDict_enhanced) +\n",
    "geom_histogram(bins=20, position = \"dodge\") +\n",
    "scale_fill_brewer(palette='Paired') + \n",
    "labs(title = \"Distribution of non-adjusted p-values among tested phenotypes \", \n",
    "    subtitle = expression(italic(\"Likelihood Ratio Test\"))) +\n",
    "xlab(\"Unadjusted p-values\") +\n",
    "ylab(\"Count\") +\n",
    "theme_bw()"
   ]
  },
  {
   "cell_type": "markdown",
   "metadata": {},
   "source": [
    "## 5. Multiple hypotheses testing correction: Bonferroni Method"
   ]
  },
  {
   "cell_type": "markdown",
   "metadata": {},
   "source": [
    "In order to handle the multiple comparison issue (increase in the probability to \"discover\" false statistical associations, because of the number of tests performed), we will use the Bonferroni correction method. Although many other multiple comparison exist, Bonferroni is the most straightforward to use, because it doesn't require assumptions about variables correlation. Other PheWAS analysis also use False Discovery Rate controlling procedures ([see reference](https://en.wikipedia.org/wiki/False_discovery_rate))."
   ]
  },
  {
   "cell_type": "markdown",
   "metadata": {},
   "source": [
    "In a nutshell, Bonferonni allows to calculate a corrected \"statistical significant threshold\" according to the number of test performed. Every p-value below this threshold will be deemed statistically significant."
   ]
  },
  {
   "cell_type": "code",
   "execution_count": null,
   "metadata": {},
   "outputs": [],
   "source": [
    "variablesDict_enhanced$adj_pvalues <- p.adjust(variablesDict_enhanced$pvalues, method=\"bonferroni\")"
   ]
  },
  {
   "cell_type": "code",
   "execution_count": null,
   "metadata": {},
   "outputs": [],
   "source": [
    "variablesDict_enhanced$log_adj_pvalues <- -log10(variablesDict_enhanced$adj_pvalues)"
   ]
  },
  {
   "cell_type": "markdown",
   "metadata": {},
   "source": [
    "## 6. Result visualisations: Manhattan plot"
   ]
  },
  {
   "cell_type": "markdown",
   "metadata": {},
   "source": [
    "Manhattan plot is the classical results representation of a PheWAS analysis. It plots every each tested phenotypical variables on the X-axis, against its *-log(pvalue)* on the Y-axis. The horizontal line represent the adjusted significance level threshold."
   ]
  },
  {
   "cell_type": "markdown",
   "metadata": {},
   "source": [
    "#### Preparing data"
   ]
  },
  {
   "cell_type": "code",
   "execution_count": null,
   "metadata": {},
   "outputs": [],
   "source": [
    "corrected_alpha <- 0.05/length(variablesDict_enhanced$pvalues) # Using Bonferonni method\n",
    "adj_corrected_alpha <- -log10(corrected_alpha)"
   ]
  },
  {
   "cell_type": "code",
   "execution_count": null,
   "metadata": {},
   "outputs": [],
   "source": [
    "non_nan <- which(!is.na(variablesDict_enhanced$pvalues))\n",
    "plot_df <- multiIndex_enhanced[non_nan, ]\n",
    "plot_df$log_pvalues <- round(plot_df$log_pvalues, 5)\n",
    "\n",
    "plot_df = multiIndex[, c(\"df_name\", \"level_3\")] %>% \n",
    "plyr::rename(replace = c(\"level_3\" = \"category\")) %>%\n",
    "right_join(plot_df, by=\"df_name\")\n",
    "\n",
    "plot_df$df_name <- as.factor(plot_df$df_name)\n",
    "plot_df <- plot_df[order(plot_df$category),]\n",
    "plot_df$category <- factor(plot_df$category)\n",
    "plot_df$name <- factor(plot_df$name, levels=plot_df$name[order(plot_df$category)])"
   ]
  },
  {
   "cell_type": "code",
   "execution_count": null,
   "metadata": {},
   "outputs": [],
   "source": [
    "# Suppressing Inf log(p-values)\n",
    "plot_df <- plot_df[plot_df$log_pvalues != Inf,]"
   ]
  },
  {
   "cell_type": "code",
   "execution_count": null,
   "metadata": {},
   "outputs": [],
   "source": [
    "# Selecting 4 largest p-values, to be annotated in the Manatthan plot\n",
    "\n",
    "largest_pvalues_indices <- order(plot_df[[\"log_pvalues\"]], decreasing=T)[1:4]\n",
    "plot_df$to_annotate <- \"no\"\n",
    "plot_df[largest_pvalues_indices, \"to_annotate\"] <- \"yes\""
   ]
  },
  {
   "cell_type": "markdown",
   "metadata": {},
   "source": [
    "#### Plotting the data"
   ]
  },
  {
   "cell_type": "code",
   "execution_count": null,
   "metadata": {},
   "outputs": [],
   "source": [
    "options(repr.plot.width=12, repr.plot.height=8)"
   ]
  },
  {
   "cell_type": "code",
   "execution_count": null,
   "metadata": {},
   "outputs": [],
   "source": [
    "my_theme <- theme_bw() + \n",
    "theme(axis.title.y = element_text(face=\"italic\", size=15),\n",
    "      title = element_text(size=20),\n",
    "      axis.title.x = element_text(size=15),\n",
    "      axis.text.x = element_text(angle=35, hjust=1),\n",
    "      legend.position = \"none\",\n",
    "      panel.grid.major.x = element_blank()\n",
    "      )\n"
   ]
  },
  {
   "cell_type": "code",
   "execution_count": null,
   "metadata": {},
   "outputs": [],
   "source": [
    "paired_colors <- c(\"navyblue\", \"lightskyblue\")\n",
    "#paired_colors <- c(\"green\", \"red\")"
   ]
  },
  {
   "cell_type": "code",
   "execution_count": null,
   "metadata": {},
   "outputs": [],
   "source": [
    "# Manatthan plot using geom_jitter --> more suitable when number of point per category is enough\n",
    "ggplot(plot_df, aes(x=category, y=log_pvalues)) +\n",
    "geom_jitter(alpha=1, aes_string(colour=\"category\"), \n",
    "           width=0.5,\n",
    "           size=3) +\n",
    "geom_hline(yintercept=adj_corrected_alpha, linetype=\"dashed\") +\n",
    "scale_y_continuous(expand = c(0, 20) ) +\n",
    "scale_color_manual(values = rep(paired_colors, times=20)) +\n",
    "geom_label_repel( data=subset(plot_df, to_annotate==\"yes\"), aes(label=simplified_name), size=3.5) +\n",
    "labs(title=\"Association between phenotypes variables and gene mutation (COPD status)\", \n",
    "    x=\"Phenotypes\", \n",
    "    y=\"- log10(p-values)\",\n",
    "    colour=\"Phenotypes categories\") +\n",
    "my_theme\n",
    "\n"
   ]
  },
  {
   "cell_type": "markdown",
   "metadata": {},
   "source": [
    "Overall, it appears that most of the tested phenotypes covariates are above the adjusted threshold of significant association. However, it is not surprising at all, given the nature of our dependent variable: a lot of those variables are by nature tied directly to the COPD status. For instance, the 4 highest p-values (distance walked in feet, nebulizer for inhaled medication, too breathless to leave the house) are direct consequences of COPD disease."
   ]
  },
  {
   "cell_type": "markdown",
   "metadata": {},
   "source": [
    "This code can be used directly with any other variable present in the variable Dictionary. It only need to change the `dependent_varname` value."
   ]
  }
 ],
 "metadata": {
  "jupytext": {
   "formats": "ipynb,Rmd"
  },
  "kernelspec": {
   "display_name": "R",
   "language": "R",
   "name": "ir"
  },
  "language_info": {
   "codemirror_mode": "r",
   "file_extension": ".r",
   "mimetype": "text/x-r-source",
   "name": "R",
   "pygments_lexer": "r",
   "version": "3.6.1"
  }
 },
 "nbformat": 4,
 "nbformat_minor": 4
}
